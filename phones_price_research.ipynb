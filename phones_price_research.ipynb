{
 "cells": [
  {
   "attachments": {},
   "cell_type": "markdown",
   "metadata": {},
   "source": [
    "# Table of contents\n",
    "\n",
    "1. [Introduction](#Introduction) <br>\n",
    "2. [Imports](#imports)<br>\n",
    "3. [Data Acquisition](#data_acquisition)<br>\n",
    "   3.1 [Scraping Challanges](#scraping_challanges)<br>\n",
    "   3.2 [Util Functions](#util_functions)<br>\n",
    "   3.3 [Scraping Process](#scraping_process)<br>\n",
    "   3.4 [Crawling](#crawling)<br>\n",
    "   3.5 [Data Scraped](#data_scraped)<br>\n",
    "4. [Data Cleaning](#data_cleaning)<br>\n",
    "   4.1 [Data NA to Real NA](#data_na_to_real_na)<br>\n",
    "   4.2 [Cleaning and Converting](#cleaning_and_converting)<br>\n",
    "   4.3 [Converting to Categorical](#categorical_conversion)<br>\n",
    "   4.4 [Removing Duplicates](#removing_duplicates)<br>\n",
    "   4.5 [Filling in missing values](#filling_in_missing_values)<br>\n",
    "5. [EDA](#eda)<br>\n",
    "   5.1 [Numeric fields Correlation to Price](#numeric_correlation)<br>\n",
    "   5.2 [Ram Capacity distribution](#ram_capacity_distribution)<br>\n",
    "   5.3 [Brands Distribution](#brands_distribution)<br>\n",
    "   5.4 [Mean price by brand](#mean_price_by_brand_)<br>\n",
    "   5.5 [Screen size distribution](#screen_size_distribution)<br>\n",
    "   5.6 [Mean price by screen size](#mean_price_by_screen_size)<br>\n",
    "   5.7 [Mean price by GPU](#mean_price_by_gpu)<br>\n",
    "   5.8 [Mean price by GPU](#mean_price_by_series)<br>\n",
    "6. [Machine Learning](#machine_learning_prep)<br>\n",
    "   6.1 [Classification](#classification)<br>\n",
    "   6.2 [Helper Functions](#ml_helper_functions)<br>\n",
    "   6.3 [Predictions](#predictions)<br>\n",
    "7. [Conclusion](#conclusion)<br>\n"
   ]
  },
  {
   "attachments": {},
   "cell_type": "markdown",
   "metadata": {},
   "source": [
    "<a name='introduction'></a>\n",
    "# Introduction\n",
    "<p>\n",
    "    Today we have so many phones in the market<br>\n",
    "    All with different prices, brands, graphic cards, hard drives types and other specs.<br>\n",
    "    <br>\n",
    "    we thought to our selves what affects the price the most. is it the brand? is it the camera quality? or is it a simple thing like the type of RAM or something else? \n",
    "    <br>\n",
    "    Also, could we predict the price of a phones based on it's specs? which elements are critical for that prediction?\n",
    "    <br>\n",
    "    To answer the above questions we set a goal to our research to see if we can build a model that will predict the price of a phones based of it's specs and also to figure out along the way which elements of the specs affect the price the most.\n",
    "</p>"
   ]
  },
  {
   "attachments": {},
   "cell_type": "markdown",
   "metadata": {},
   "source": [
    "<a id='imports'></a>\n",
    "<h2 id=\"imports\">Imports</h2>"
   ]
  },
  {
   "cell_type": "code",
   "execution_count": 1,
   "metadata": {},
   "outputs": [],
   "source": [
    "from bs4 import BeautifulSoup\n",
    "import requests\n",
    "import re\n",
    "import pandas as pd\n",
    "from random import randint\n",
    "import time\n",
    "from time import sleep\n",
    "from typing import List\n",
    "from sklearn.preprocessing import MinMaxScaler\n",
    "import pandas as pd\n",
    "import numpy as np\n",
    "import seaborn as sns\n",
    "import matplotlib.pyplot as plt\n",
    "from matplotlib import gridspec\n",
    "from sklearn import linear_model, metrics, preprocessing\n",
    "from sklearn.preprocessing import StandardScaler, MinMaxScaler, LabelEncoder\n",
    "from sklearn.linear_model import LogisticRegression, LinearRegression\n",
    "from sklearn.metrics import r2_score, f1_score"
   ]
  },
  {
   "attachments": {},
   "cell_type": "markdown",
   "metadata": {},
   "source": [
    "<a id=\"data_acquisition\"></a>\n",
    "<h2>Data Acquisition</h2>\n",
    "<p>Considering our options of data acquisition sources, we decided to look for the biggest electronics comparsion websites and scrape data which we thought will be helpful and save it as a dataframe.\n",
    "\n",
    "The top options we found were:</p>\n",
    "<ul>\n",
    "   <li> <a href=\"https://zap.com/\"target=\"_blank\">Zap</a></li>\n",
    "    <li><a href=\"https://amazon.com/\"target=\"_blank\">Amazon</a></li>\n",
    "    <li><a href=\"https://www.ret.co.il/\"target=\"_blank\">Ret</a></li>\n",
    "    <li><a href=\"https://www.gadgetsnow.com/\"target=\"_blank\">gadgetsnow</a></li>\n",
    "    <li><a href=\"https://www.wisebuy.co.il/\"target=\"_blank\">wisebuy</a></li>\n",
    "</ul>\n",
    "\n",
    "<p>After a punctual search in these websites for relevant data and great community scale, we have decided to move on with Zap And Ret due to the popularity of the sites and the amount of features provided for each phones.</p>\n",
    "\n",
    "\n"
   ]
  },
  {
   "attachments": {},
   "cell_type": "markdown",
   "metadata": {},
   "source": [
    "<a id='scraping_challanges'></a>\n",
    "<h3>Scraping challanges</h3>\n",
    "<p>On our first attempts to scrape the data from Zap and Ret we incounterd the following issues:<br>\n",
    "    <ul>\n",
    "       <li> When sending too many requests in a short period of time, the websites started to slow down and the scraping took a long period of time.</li>\n",
    "        <li>The default user agent used by requests was python: \"requests/2.26.0\" and we were blocked by Zap and Ret after a few requests.</li>\n",
    "     </ul>\n",
    "</p>\n",
    "<p> The way we dealed with those issues was by using sleep and a custom header."
   ]
  },
  {
   "attachments": {},
   "cell_type": "markdown",
   "metadata": {},
   "source": [
    "<a id='util_functions'></a>\n",
    "\n",
    "<h3>\n",
    "Some util functions to help scrape the data:\n",
    "</h3>\n",
    "<p>\n",
    "    <ul>\n",
    "        <li>sleepms- a function made in order to create a delay so the amount of requests sends to the server in parralel will not affect the scraping performance and other users experience in the website</li>\n",
    "        <li>random_wait- a function which is used in order to create random delay so our scraping methodology will not be detected by the servers.</li>\n",
    "       <li> get_fake_user_agent- a function which provides us with a non suspectable user agent.</li>"
   ]
  },
  {
   "cell_type": "code",
   "execution_count": 2,
   "metadata": {},
   "outputs": [],
   "source": [
    "def sleepms(milliseconds: int):\n",
    "    seconds = 0.001 * milliseconds\n",
    "    sleep(seconds)\n",
    "    \n",
    "def random_wait():\n",
    "    sleepms(randint(1, 250))\n",
    "\n",
    "def get_fake_user_agent():\n",
    "    # phone user agent\n",
    "    return {\"User-Agent\":\"Mozilla/5.0 (Linux; Android 6.0; Nexus 5 Build/MRA58N) AppleWebKit/537.36 (KHTML, like Gecko) Chrome/111.0.0.0 Mobile Safari/537.36\"}"
   ]
  },
  {
   "attachments": {},
   "cell_type": "markdown",
   "metadata": {},
   "source": [
    "<a id='scraping_process'></a>\n",
    "<h3>Scraping Process</h3>\n",
    "<p>\n",
    "We went into the website and started exploring in order to find the best route for our scraping proccess.\n",
    "</p>\n",
    "<p>\n",
    "We could clearly see that our best option to get maximum data was in the extra details page which contains huge amount of data.<br>\n",
    "</p>"
   ]
  },
  {
   "attachments": {},
   "cell_type": "markdown",
   "metadata": {},
   "source": [
    "</p>\n",
    "At this point we asked ourselves what is the exact data we wish to scrape?<br>\n",
    "\n",
    "we decided to go with the following and rename them for the rest of the process:\n",
    "<ul>\n",
    "    <li>יצרן - Brand</li>\n",
    "    <li>תאריך כניסה לאתר - Enter Date</li>\n",
    "    <li>שנת הכרזה – Out date</li>\n",
    "    <li>מערכת הפעלה - Operating System</li>\n",
    "    <li>משקל - Weight</li>\n",
    "    <li>סדרה – Series</li>\n",
    "    <li>טלפון חכם-SmartPhone</li>\n",
    "    <li>נפח זיכרון RAM - RAM Capacity</li>\n",
    "    <li>מהירות מעבד - CPU speed</li>\n",
    "    <li>דור- generation</li>\n",
    "    <li>גודל מסך - Screen Size</li>\n",
    "    <li>מספר ליבות – number of cores</li>\n",
    "    <li>רזולוצית מסך - Screen Resolution</li>\n",
    "    <li>צפיפות פיקסלים  - pixels</li>\n",
    "    <li>סוג מסך - Screen Type</li>\n",
    "    <li>קצב ריענון תצוגה - FPS</li>\n",
    "    <li>עמידות במים – Water resistance</li>\n",
    "    <li>צבע – colors</li>\n",
    "    <li>ממשק הפעלה - Operating interface</li>\n",
    "    <li>כרטיס זיכרון - GPU</li>\n",
    "    <li>מצלמה קדמית – Front Camera</li>\n",
    "    <li>מצלמה–Camera</li>\n",
    "    <li>קורא טביעת אצבע - Fingerprint reader</li>\n",
    "    <li>רשת אלחוטית - Wifi modal</li>\n",
    "    <li>מחיר מינימלי - Min price</li>\n",
    "    <li>מחיר מקסימלי - Max price</li>\n",
    "    <li>קורא כרטיסים – NFC</li>\n",
    "    <li>Bluetooth</li>\n",
    "    <li>תמיכה ב esim</li>\n",
    "    <li>תמיכה בטעינה אלחוטית - Wireless charging support</li>\n",
    "    <li>קיבולת סוללה - Battery capacity</li>\n",
    "</ul>\n",
    "Also, we decided to save the page number in which Zap decided to place the phones, we figured it has a meaning we could use:\n",
    "<ul>\n",
    "    <li>Page Number</li>\n",
    "</ul>\n"
   ]
  },
  {
   "attachments": {},
   "cell_type": "markdown",
   "metadata": {},
   "source": [
    "```python\n",
    "# ZAP\n",
    "def zap_crawl_data(BASE_URL,phone_id):\n",
    "    price_detail = requests.get(f'{BASE_URL}//model.aspx?modelid={phone_id}',headers = get_fake_user_agent())\n",
    "    price_soup = BeautifulSoup(price_detail.text, 'html.parser')\n",
    "    spans = price_soup.find('div',attrs={'class':'prices-txt'}).find_all('span',limit=None)\n",
    "    titles = ['מחיר מינימלי','מחיר מקסימלי']\n",
    "    if len(spans) == 3:\n",
    "        values = [ spans[1].text, spans[0].text ]\n",
    "    elif len(spans) == 2: \n",
    "        values = [ spans[0].text, spans[0].text ]\n",
    "    else:\n",
    "        return None\n",
    "\n",
    "\n",
    "    phone_detail = requests.get(f'{BASE_URL}//compmodels.aspx?modelid={phone_id}',headers = get_fake_user_agent())\n",
    "    phone_soup = BeautifulSoup(phone_detail.text, 'html.parser').find('div',attrs={'class':'compareBox'})\n",
    "    links = phone_soup.find_all('div', attrs={'class' : 'paramRow'},limit=None)\n",
    "    \n",
    "    for i in range(0, len(links)):\n",
    "        titles.append(links[i].find('div',attrs={'class' : 'ParamCol'}).text.replace('?','').strip())\n",
    "        values.append(links[i].find('div',attrs={'class' : 'ParamColValue'}).text.strip())\n",
    "\n",
    "    return dict(zip(titles,values))\n",
    "\n",
    "# RET\n",
    "def ret_crawl_data(BASE_URL,phone_id):\n",
    "    url = f'{BASE_URL}m/{phone_id}/specs'\n",
    "    page = requests.get(url,headers = get_fake_user_agent())\n",
    "    soup = BeautifulSoup(page.text, 'html.parser')\n",
    "    meta = soup.find('div',attrs={'class','price'})\n",
    "    lowPrice = meta.find('meta',attrs={'itemprop':'lowPrice'})\n",
    "    highPrice = meta.find('meta',attrs={'itemprop':'highPrice'})\n",
    "    if(lowPrice == None or highPrice == None):\n",
    "        return None\n",
    "    titles = ['מחיר מינימלי','מחיר מקסימלי']\n",
    "    values = [lowPrice.get('content'),highPrice.get('content')]\n",
    "    properties = soup.find('div',attrs={'class','single-product-tab'}).find_all('ul',attrs={'class':'list-group list-group-horizontal'},limit=None)\n",
    "    for i in range(0,len(properties)):\n",
    "        [title,value] = properties[i].find_all('li',limit=None)\n",
    "        titles.append(title.text.strip())\n",
    "        values.append(value.text.strip()) \n",
    "    \n",
    "    return dict(zip(titles,values))\n",
    "```"
   ]
  },
  {
   "cell_type": "code",
   "execution_count": 3,
   "metadata": {},
   "outputs": [],
   "source": [
    "def translate_names(df):\n",
    "    translated_df = pd.DataFrame()\n",
    "    translation = {\n",
    "        \"יצרן\": \"Brand\",\n",
    "        \"שנת הכרזה\": \"Out Date\",\n",
    "        \"מערכת הפעלה\": \"Operating System\",\n",
    "        \"משקל\": \"Weight\",\n",
    "        \"סדרה\": \"Series\",\n",
    "        \"Smartphone\": \"Smartphone\",\n",
    "        \"ממשק הפעלה\": \"Operating interface\",\n",
    "        \"זיכרון RAM\": \"RAM Capacity\",\n",
    "        \"מהירות מעבד\": \"CPU speed\",\n",
    "        \"דור\": \"CPU generation\",\n",
    "        \"גודל מסך\": \"Screen Size\",\n",
    "        \"מספר ליבות\": \"Number of cores\",\n",
    "        \"רזולוציה\": \"Screen Resolution\",\n",
    "        \"צפיפות פיקסלים\": \"pixels\",\n",
    "        \"קצב רענון\": \"FPS\",\n",
    "        \"סוג מסך\": \"Screen Type\",\n",
    "        \"עמידות במים\": \"Water resistance\",\n",
    "        \"צבעים\": \"Colors\",\n",
    "        \"כרטיס זיכרון\": \"GPU\",\n",
    "        \"מצלמה קדמית\": \"Front camera\",\n",
    "        \"מצלמה\": \"Camera\",\n",
    "        \"קורא טביעת אצבע\": \"Fingerprint reader\",\n",
    "        \"WiFi\": \"WiFi\",\n",
    "        \"מחיר מינימלי\": \"Min price\",\n",
    "        \"מחיר מקסימלי\": \"Max price\",\n",
    "        \"NFC\": \"NFC\",\n",
    "        \"Bluetooth\": \"Bluetooth\",\n",
    "        \"קיבולת הסוללה\": \"Battery capacity\",\n",
    "        \"מספר עמוד\": \"Page number\"}\n",
    "    df.rename(columns=translation,inplace=True)\n",
    "    for col in translation.values():\n",
    "        translated_df[col] = df[col]\n",
    "    return translated_df"
   ]
  },
  {
   "attachments": {},
   "cell_type": "markdown",
   "metadata": {},
   "source": [
    "<a id='crawling'></a>\n",
    "<h3>Crawling</h3>\n",
    "<p>\n",
    "At this point, we considered different tools for crawling data from zap and ret:\n",
    "<ul>\n",
    "<li>BeautifulSoup - a library in python that allows to crawl data via xpath in a simple way</li>\n",
    "<li>Scrapy - a free open source web-crawling framework written in python, the library allows crawling for data via xpath </li>\n",
    "<li>Selenum - a tool for automation testing, the selenuim framework is divided into two parts: selenuim sdk and chrome driver. This tool also allows crawling for data via xpath </li>\n",
    "</ul>\n",
    "\n",
    "Eventually, we chose BeautifulSoup.\n",
    "</p>"
   ]
  },
  {
   "attachments": {},
   "cell_type": "markdown",
   "metadata": {},
   "source": [
    "```python\n",
    "# ZAP\n",
    "def zap_data_crawl_all(BASE_URL,filename,page):\n",
    "    index = page\n",
    "    df = pd.DataFrame()\n",
    "    url = f'{BASE_URL}models.aspx?sog=e-cellphone&pageinfo={index}'\n",
    "    page = requests.get(url,headers = get_fake_user_agent())\n",
    "    soup = BeautifulSoup(page.text, 'html.parser')\n",
    "    last_page = int(soup.find('div',attrs={'class':'paging'}).find('select').find_all('option',limit=None)[-1].text)\n",
    "    for i in range(index,last_page+1):\n",
    "        a_tags = soup.find('div',attrs={'id':'divSearchResults'}).find_all('a',limit=None)\n",
    "        phone_id = [tag.get('data-model-id') for tag in a_tags] \n",
    "        for i in range(0, len(phone_id)):\n",
    "            cd = zap_crawl_data(BASE_URL,phone_id[i])\n",
    "            if(cd is not None):\n",
    "                cd['מספר עמוד'] = index\n",
    "                df = pd.concat([df,pd.DataFrame([cd])])\n",
    "        index += 1\n",
    "        random_wait()\n",
    "        url = f'{BASE_URL}models.aspx?sog=e-cellphone&pageinfo={index}'\n",
    "        page = requests.get(url,headers = get_fake_user_agent())\n",
    "        soup = BeautifulSoup(page.text, 'html.parser')\n",
    "    translated_df = translate_names(df)\n",
    "    translated_df.to_csv(filename, index=False, mode='a', header=False ,encoding = 'utf:\"8:\"sig')\n",
    "# RET\n",
    "def ret_data_crawl_all(BASE_URL,filename,page):\n",
    "    index = page\n",
    "    df = pd.DataFrame()\n",
    "    url = f'{BASE_URL}shop/cellphone?pageindex={index}'\n",
    "    page = requests.get(url,headers = get_fake_user_agent())\n",
    "    soup = BeautifulSoup(page.text, 'html.parser')\n",
    "    last_page =  int(soup.find('nav',attrs={'class':'card-pagination'}).find('div').text.split(' ')[-1])\n",
    "    for i in range(index,last_page+1):\n",
    "        phone_divs = soup.find('div',attrs={'class':'product-list'}).find_all('div',attrs={'class':'shop-block'},limit=None)\n",
    "        phone_id = [div.get('data-id') for div in phone_divs]\n",
    "        for i in range(0, len(phone_id)):\n",
    "            cd = ret_crawl_data(BASE_URL,phone_id[i])\n",
    "            if(cd is not None):\n",
    "                cd['מספר עמוד'] = index\n",
    "                df = pd.concat([df,pd.DataFrame([cd])])\n",
    "        index += 1\n",
    "        random_wait()\n",
    "        url = f'{BASE_URL}shop/cellphone?pageindex={index}'\n",
    "        page = requests.get(url,headers = get_fake_user_agent())\n",
    "        soup = BeautifulSoup(page.text, 'html.parser')\n",
    "    translated_df = translate_names(df)\n",
    "    translated_df.to_csv(filename, index=False,mode='a', header=False,encoding = 'utf:\"8:\"sig') \n",
    "```"
   ]
  },
  {
   "cell_type": "code",
   "execution_count": 68,
   "metadata": {},
   "outputs": [],
   "source": [
    "ZAP_BASE_URL =\"https://www.zap.co.il/\"\n",
    "zap_filename = './data/zap_data.csv'\n",
    "zap_page = 1\n",
    "\n",
    "RET_BASE_URL = \"https://www.ret.co.il/\"\n",
    "ret_filename = './data/ret_data.csv'\n",
    "ret_page = 1"
   ]
  },
  {
   "attachments": {},
   "cell_type": "markdown",
   "metadata": {},
   "source": [
    "```python\n",
    "zap_data_crawl_all(ZAP_BASE_URL, zap_filename, zap_page)\n",
    "ret_data_crawl_all(RET_BASE_URL, ret_filename, ret_page)\n",
    "```"
   ]
  },
  {
   "attachments": {},
   "cell_type": "markdown",
   "metadata": {},
   "source": [
    "<a id='data_scraped'></a>\n",
    "<h3>Let's check how much data did we scrape before we start cleaning it (if needed)</h3>"
   ]
  },
  {
   "cell_type": "code",
   "execution_count": 70,
   "metadata": {},
   "outputs": [
    {
     "name": "stdout",
     "output_type": "stream",
     "text": [
      "df shape:(2201, 29)\n",
      "data amount before cleaning: 63,829 (rows * cols)\n"
     ]
    },
    {
     "data": {
      "text/html": [
       "<div>\n",
       "<style scoped>\n",
       "    .dataframe tbody tr th:only-of-type {\n",
       "        vertical-align: middle;\n",
       "    }\n",
       "\n",
       "    .dataframe tbody tr th {\n",
       "        vertical-align: top;\n",
       "    }\n",
       "\n",
       "    .dataframe thead th {\n",
       "        text-align: right;\n",
       "    }\n",
       "</style>\n",
       "<table border=\"1\" class=\"dataframe\">\n",
       "  <thead>\n",
       "    <tr style=\"text-align: right;\">\n",
       "      <th></th>\n",
       "      <th>Brand</th>\n",
       "      <th>Out Date</th>\n",
       "      <th>Operating System</th>\n",
       "      <th>Weight</th>\n",
       "      <th>Series</th>\n",
       "      <th>Smartphone</th>\n",
       "      <th>Operating interface</th>\n",
       "      <th>RAM Capacity</th>\n",
       "      <th>CPU speed</th>\n",
       "      <th>CPU generation</th>\n",
       "      <th>...</th>\n",
       "      <th>Front camera</th>\n",
       "      <th>Camera</th>\n",
       "      <th>Fingerprint reader</th>\n",
       "      <th>WiFi</th>\n",
       "      <th>Min price</th>\n",
       "      <th>Max price</th>\n",
       "      <th>NFC</th>\n",
       "      <th>Bluetooth</th>\n",
       "      <th>Battery capacity</th>\n",
       "      <th>Page number</th>\n",
       "    </tr>\n",
       "  </thead>\n",
       "  <tbody>\n",
       "    <tr>\n",
       "      <th>0</th>\n",
       "      <td>Samsung</td>\n",
       "      <td>2022</td>\n",
       "      <td>Android</td>\n",
       "      <td>177 גרם</td>\n",
       "      <td>Galaxy S21</td>\n",
       "      <td>סמארטפון</td>\n",
       "      <td>מסך מגע</td>\n",
       "      <td>8GB</td>\n",
       "      <td>1800 2420 2840 MHz</td>\n",
       "      <td>4</td>\n",
       "      <td>...</td>\n",
       "      <td>32 מגה פיקסל</td>\n",
       "      <td>12 +8 + 12 מגה פיקסל</td>\n",
       "      <td>כולל</td>\n",
       "      <td>כולל</td>\n",
       "      <td>1,444</td>\n",
       "      <td>2,529</td>\n",
       "      <td>כולל</td>\n",
       "      <td>כולל</td>\n",
       "      <td>4,500 mAh</td>\n",
       "      <td>1.0</td>\n",
       "    </tr>\n",
       "    <tr>\n",
       "      <th>1</th>\n",
       "      <td>Xiaomi</td>\n",
       "      <td>2022</td>\n",
       "      <td>Android</td>\n",
       "      <td>179 גרם</td>\n",
       "      <td>Redmi Note 11</td>\n",
       "      <td>סמארטפון</td>\n",
       "      <td>מסך מגע</td>\n",
       "      <td>6GB</td>\n",
       "      <td>1900 2400 MHz</td>\n",
       "      <td>4</td>\n",
       "      <td>...</td>\n",
       "      <td>13 מגה פיקסל</td>\n",
       "      <td>50 + 8 + 2 + 2 מגה פיקסל</td>\n",
       "      <td>כולל</td>\n",
       "      <td>כולל</td>\n",
       "      <td>680</td>\n",
       "      <td>999</td>\n",
       "      <td>אופציונאלי</td>\n",
       "      <td>5.0</td>\n",
       "      <td>5,000 mAh</td>\n",
       "      <td>1.0</td>\n",
       "    </tr>\n",
       "    <tr>\n",
       "      <th>2</th>\n",
       "      <td>Samsung</td>\n",
       "      <td>2023</td>\n",
       "      <td>Android</td>\n",
       "      <td>234 גרם</td>\n",
       "      <td>Galaxy S23 Ultra</td>\n",
       "      <td>סמארטפון</td>\n",
       "      <td>מסך מגע</td>\n",
       "      <td>512MB</td>\n",
       "      <td>2800 2800 3360 MHz</td>\n",
       "      <td>5</td>\n",
       "      <td>...</td>\n",
       "      <td>12 מגה פיקסל</td>\n",
       "      <td>200 + 10 + 10 +12 מגה פיקסל</td>\n",
       "      <td>כולל</td>\n",
       "      <td>כולל</td>\n",
       "      <td>4,489</td>\n",
       "      <td>5,425</td>\n",
       "      <td>אופציונאלי</td>\n",
       "      <td>5.3</td>\n",
       "      <td>5,000 mAh</td>\n",
       "      <td>1.0</td>\n",
       "    </tr>\n",
       "    <tr>\n",
       "      <th>3</th>\n",
       "      <td>Samsung</td>\n",
       "      <td>2023</td>\n",
       "      <td>Android</td>\n",
       "      <td>234 גרם</td>\n",
       "      <td>Galaxy S23 Ultra</td>\n",
       "      <td>סמארטפון</td>\n",
       "      <td>מסך מגע</td>\n",
       "      <td>12GB</td>\n",
       "      <td>2000 2800 2800 3360 MHz</td>\n",
       "      <td>5</td>\n",
       "      <td>...</td>\n",
       "      <td>12 מגה פיקסל</td>\n",
       "      <td>200 + 10 + 10 +12 מגה פיקסל</td>\n",
       "      <td>כולל</td>\n",
       "      <td>כולל</td>\n",
       "      <td>4,005</td>\n",
       "      <td>4,925</td>\n",
       "      <td>אופציונאלי</td>\n",
       "      <td>5.3</td>\n",
       "      <td>5,000 mAh</td>\n",
       "      <td>1.0</td>\n",
       "    </tr>\n",
       "    <tr>\n",
       "      <th>4</th>\n",
       "      <td>Samsung</td>\n",
       "      <td>2022</td>\n",
       "      <td>Android</td>\n",
       "      <td>228 גרם</td>\n",
       "      <td>Galaxy S22</td>\n",
       "      <td>סמארטפון</td>\n",
       "      <td>מסך מגע</td>\n",
       "      <td>12GB</td>\n",
       "      <td>1700 2400 3000 MHz</td>\n",
       "      <td>4</td>\n",
       "      <td>...</td>\n",
       "      <td>40 מגה פיקסל</td>\n",
       "      <td>108 + 10 + 10 + 12 מגה פיקסל</td>\n",
       "      <td>כולל</td>\n",
       "      <td>כולל</td>\n",
       "      <td>3,418</td>\n",
       "      <td>4,589</td>\n",
       "      <td>כולל</td>\n",
       "      <td>5.2</td>\n",
       "      <td>5,000 mAh</td>\n",
       "      <td>1.0</td>\n",
       "    </tr>\n",
       "  </tbody>\n",
       "</table>\n",
       "<p>5 rows × 29 columns</p>\n",
       "</div>"
      ],
      "text/plain": [
       "     Brand Out Date Operating System   Weight            Series Smartphone  \\\n",
       "0  Samsung     2022          Android  177 גרם        Galaxy S21   סמארטפון   \n",
       "1   Xiaomi     2022          Android  179 גרם     Redmi Note 11   סמארטפון   \n",
       "2  Samsung     2023          Android  234 גרם  Galaxy S23 Ultra   סמארטפון   \n",
       "3  Samsung     2023          Android  234 גרם  Galaxy S23 Ultra   סמארטפון   \n",
       "4  Samsung     2022          Android  228 גרם        Galaxy S22   סמארטפון   \n",
       "\n",
       "  Operating interface RAM Capacity                CPU speed CPU generation  \\\n",
       "0             מסך מגע          8GB       1800 2420 2840 MHz              4   \n",
       "1             מסך מגע          6GB            1900 2400 MHz              4   \n",
       "2             מסך מגע        512MB       2800 2800 3360 MHz              5   \n",
       "3             מסך מגע         12GB  2000 2800 2800 3360 MHz              5   \n",
       "4             מסך מגע         12GB       1700 2400 3000 MHz              4   \n",
       "\n",
       "   ...  Front camera                        Camera Fingerprint reader  WiFi  \\\n",
       "0  ...  32 מגה פיקסל          12 +8 + 12 מגה פיקסל               כולל  כולל   \n",
       "1  ...  13 מגה פיקסל      50 + 8 + 2 + 2 מגה פיקסל               כולל  כולל   \n",
       "2  ...  12 מגה פיקסל   200 + 10 + 10 +12 מגה פיקסל               כולל  כולל   \n",
       "3  ...  12 מגה פיקסל   200 + 10 + 10 +12 מגה פיקסל               כולל  כולל   \n",
       "4  ...  40 מגה פיקסל  108 + 10 + 10 + 12 מגה פיקסל               כולל  כולל   \n",
       "\n",
       "  Min price Max price         NFC Bluetooth Battery capacity Page number  \n",
       "0     1,444     2,529        כולל      כולל        4,500 mAh         1.0  \n",
       "1       680       999  אופציונאלי       5.0        5,000 mAh         1.0  \n",
       "2     4,489     5,425  אופציונאלי       5.3        5,000 mAh         1.0  \n",
       "3     4,005     4,925  אופציונאלי       5.3        5,000 mAh         1.0  \n",
       "4     3,418     4,589        כולל       5.2        5,000 mAh         1.0  \n",
       "\n",
       "[5 rows x 29 columns]"
      ]
     },
     "execution_count": 70,
     "metadata": {},
     "output_type": "execute_result"
    }
   ],
   "source": [
    "zap_df = pd.read_csv(zap_filename)\n",
    "ret_df = pd.read_csv(ret_filename)\n",
    "# zap_df['Page number'] = zap_df['Page number'].apply(lambda x: \"zap_\"+str(x))\n",
    "# ret_df['Page number'] = ret_df['Page number'].apply(lambda x: \"ret_\"+str(x))\n",
    "phones_df = pd.concat([zap_df,ret_df],ignore_index=True)\n",
    "print(f\"df shape:{phones_df.shape}\")\n",
    "print(f\"data amount before cleaning: {'{:,}'.format(phones_df.shape[0] * phones_df.shape[1])} (rows * cols)\")\n",
    "phones_df.head()"
   ]
  },
  {
   "attachments": {},
   "cell_type": "markdown",
   "metadata": {},
   "source": [
    "<a id='data_cleaning'></a>\n",
    "<h2>Data Cleaning</h2>\n"
   ]
  },
  {
   "attachments": {},
   "cell_type": "markdown",
   "metadata": {},
   "source": [
    "<a id='data_na_to_real_na'></a>\n",
    "\n",
    "<h3>Turning Zap's NA's to real NA's</h3>"
   ]
  },
  {
   "cell_type": "code",
   "execution_count": 71,
   "metadata": {},
   "outputs": [],
   "source": [
    "phones_real_na = phones_df.copy()\n",
    "for col in phones_real_na:\n",
    "    phones_real_na.loc[(phones_real_na[col] == 'לא זמין') | (phones_real_na[col] == 'יעודכן בקרוב') | (phones_real_na[col] == 'ללא') | (phones_real_na[col] == \"לא רלוונטי\"), col] = None \n",
    "    phones_real_na.loc[(phones_real_na[col] == 'כולל')| (phones_real_na[col] == 'אופציונאלי'), col] = 1 "
   ]
  },
  {
   "attachments": {},
   "cell_type": "markdown",
   "metadata": {},
   "source": [
    "<a id='cleaning_and_converting'></a>\n",
    "\n",
    "<h3>Cleaning and converting to numeric</h3>"
   ]
  },
  {
   "cell_type": "code",
   "execution_count": 72,
   "metadata": {},
   "outputs": [
    {
     "data": {
      "text/html": [
       "<div>\n",
       "<style scoped>\n",
       "    .dataframe tbody tr th:only-of-type {\n",
       "        vertical-align: middle;\n",
       "    }\n",
       "\n",
       "    .dataframe tbody tr th {\n",
       "        vertical-align: top;\n",
       "    }\n",
       "\n",
       "    .dataframe thead th {\n",
       "        text-align: right;\n",
       "    }\n",
       "</style>\n",
       "<table border=\"1\" class=\"dataframe\">\n",
       "  <thead>\n",
       "    <tr style=\"text-align: right;\">\n",
       "      <th></th>\n",
       "      <th>Brand</th>\n",
       "      <th>Out Date</th>\n",
       "      <th>Operating System</th>\n",
       "      <th>Weight</th>\n",
       "      <th>Series</th>\n",
       "      <th>Smartphone</th>\n",
       "      <th>Operating interface</th>\n",
       "      <th>RAM Capacity</th>\n",
       "      <th>CPU speed</th>\n",
       "      <th>CPU generation</th>\n",
       "      <th>...</th>\n",
       "      <th>Front camera</th>\n",
       "      <th>Camera</th>\n",
       "      <th>Fingerprint reader</th>\n",
       "      <th>WiFi</th>\n",
       "      <th>Min price</th>\n",
       "      <th>Max price</th>\n",
       "      <th>NFC</th>\n",
       "      <th>Bluetooth</th>\n",
       "      <th>Battery capacity</th>\n",
       "      <th>Page number</th>\n",
       "    </tr>\n",
       "  </thead>\n",
       "  <tbody>\n",
       "    <tr>\n",
       "      <th>0</th>\n",
       "      <td>Samsung</td>\n",
       "      <td>2022.0</td>\n",
       "      <td>Android</td>\n",
       "      <td>177.0</td>\n",
       "      <td>Galaxy S21</td>\n",
       "      <td>סמארטפון</td>\n",
       "      <td>מסך מגע</td>\n",
       "      <td>8.0</td>\n",
       "      <td>7060.0</td>\n",
       "      <td>4.0</td>\n",
       "      <td>...</td>\n",
       "      <td>32.0</td>\n",
       "      <td>32.0</td>\n",
       "      <td>1</td>\n",
       "      <td>1</td>\n",
       "      <td>1444.0</td>\n",
       "      <td>2529.0</td>\n",
       "      <td>1.0</td>\n",
       "      <td>1.0</td>\n",
       "      <td>4500.0</td>\n",
       "      <td>1.0</td>\n",
       "    </tr>\n",
       "    <tr>\n",
       "      <th>1</th>\n",
       "      <td>Xiaomi</td>\n",
       "      <td>2022.0</td>\n",
       "      <td>Android</td>\n",
       "      <td>179.0</td>\n",
       "      <td>Redmi Note 11</td>\n",
       "      <td>סמארטפון</td>\n",
       "      <td>מסך מגע</td>\n",
       "      <td>6.0</td>\n",
       "      <td>4300.0</td>\n",
       "      <td>4.0</td>\n",
       "      <td>...</td>\n",
       "      <td>13.0</td>\n",
       "      <td>62.0</td>\n",
       "      <td>1</td>\n",
       "      <td>1</td>\n",
       "      <td>680.0</td>\n",
       "      <td>999.0</td>\n",
       "      <td>1.0</td>\n",
       "      <td>5.0</td>\n",
       "      <td>5000.0</td>\n",
       "      <td>1.0</td>\n",
       "    </tr>\n",
       "    <tr>\n",
       "      <th>2</th>\n",
       "      <td>Samsung</td>\n",
       "      <td>2023.0</td>\n",
       "      <td>Android</td>\n",
       "      <td>234.0</td>\n",
       "      <td>Galaxy S23 Ultra</td>\n",
       "      <td>סמארטפון</td>\n",
       "      <td>מסך מגע</td>\n",
       "      <td>512.0</td>\n",
       "      <td>8960.0</td>\n",
       "      <td>5.0</td>\n",
       "      <td>...</td>\n",
       "      <td>12.0</td>\n",
       "      <td>232.0</td>\n",
       "      <td>1</td>\n",
       "      <td>1</td>\n",
       "      <td>4489.0</td>\n",
       "      <td>5425.0</td>\n",
       "      <td>1.0</td>\n",
       "      <td>5.3</td>\n",
       "      <td>5000.0</td>\n",
       "      <td>1.0</td>\n",
       "    </tr>\n",
       "    <tr>\n",
       "      <th>3</th>\n",
       "      <td>Samsung</td>\n",
       "      <td>2023.0</td>\n",
       "      <td>Android</td>\n",
       "      <td>234.0</td>\n",
       "      <td>Galaxy S23 Ultra</td>\n",
       "      <td>סמארטפון</td>\n",
       "      <td>מסך מגע</td>\n",
       "      <td>12.0</td>\n",
       "      <td>10960.0</td>\n",
       "      <td>5.0</td>\n",
       "      <td>...</td>\n",
       "      <td>12.0</td>\n",
       "      <td>232.0</td>\n",
       "      <td>1</td>\n",
       "      <td>1</td>\n",
       "      <td>4005.0</td>\n",
       "      <td>4925.0</td>\n",
       "      <td>1.0</td>\n",
       "      <td>5.3</td>\n",
       "      <td>5000.0</td>\n",
       "      <td>1.0</td>\n",
       "    </tr>\n",
       "    <tr>\n",
       "      <th>4</th>\n",
       "      <td>Samsung</td>\n",
       "      <td>2022.0</td>\n",
       "      <td>Android</td>\n",
       "      <td>228.0</td>\n",
       "      <td>Galaxy S22</td>\n",
       "      <td>סמארטפון</td>\n",
       "      <td>מסך מגע</td>\n",
       "      <td>12.0</td>\n",
       "      <td>7100.0</td>\n",
       "      <td>4.0</td>\n",
       "      <td>...</td>\n",
       "      <td>40.0</td>\n",
       "      <td>140.0</td>\n",
       "      <td>1</td>\n",
       "      <td>1</td>\n",
       "      <td>3418.0</td>\n",
       "      <td>4589.0</td>\n",
       "      <td>1.0</td>\n",
       "      <td>5.2</td>\n",
       "      <td>5000.0</td>\n",
       "      <td>1.0</td>\n",
       "    </tr>\n",
       "  </tbody>\n",
       "</table>\n",
       "<p>5 rows × 29 columns</p>\n",
       "</div>"
      ],
      "text/plain": [
       "     Brand  Out Date Operating System  Weight            Series Smartphone  \\\n",
       "0  Samsung    2022.0          Android   177.0        Galaxy S21   סמארטפון   \n",
       "1   Xiaomi    2022.0          Android   179.0     Redmi Note 11   סמארטפון   \n",
       "2  Samsung    2023.0          Android   234.0  Galaxy S23 Ultra   סמארטפון   \n",
       "3  Samsung    2023.0          Android   234.0  Galaxy S23 Ultra   סמארטפון   \n",
       "4  Samsung    2022.0          Android   228.0        Galaxy S22   סמארטפון   \n",
       "\n",
       "  Operating interface  RAM Capacity  CPU speed  CPU generation  ...  \\\n",
       "0             מסך מגע           8.0     7060.0             4.0  ...   \n",
       "1             מסך מגע           6.0     4300.0             4.0  ...   \n",
       "2             מסך מגע         512.0     8960.0             5.0  ...   \n",
       "3             מסך מגע          12.0    10960.0             5.0  ...   \n",
       "4             מסך מגע          12.0     7100.0             4.0  ...   \n",
       "\n",
       "   Front camera  Camera  Fingerprint reader  WiFi  Min price Max price  NFC  \\\n",
       "0          32.0    32.0                   1     1     1444.0    2529.0  1.0   \n",
       "1          13.0    62.0                   1     1      680.0     999.0  1.0   \n",
       "2          12.0   232.0                   1     1     4489.0    5425.0  1.0   \n",
       "3          12.0   232.0                   1     1     4005.0    4925.0  1.0   \n",
       "4          40.0   140.0                   1     1     3418.0    4589.0  1.0   \n",
       "\n",
       "  Bluetooth Battery capacity  Page number  \n",
       "0       1.0           4500.0          1.0  \n",
       "1       5.0           5000.0          1.0  \n",
       "2       5.3           5000.0          1.0  \n",
       "3       5.3           5000.0          1.0  \n",
       "4       5.2           5000.0          1.0  \n",
       "\n",
       "[5 rows x 29 columns]"
      ]
     },
     "execution_count": 72,
     "metadata": {},
     "output_type": "execute_result"
    }
   ],
   "source": [
    "def remove_junk(col):\n",
    "    if(col):\n",
    "        return str(col).replace('\\u200f','')\n",
    "    return col\n",
    "\n",
    "def sum_col(col):\n",
    "    col = remove_junk(col)\n",
    "    if col == 'None' or col == '':\n",
    "        return None\n",
    "    col_string = col.split(' ')\n",
    "    ret_sum = 0\n",
    "    for i in range(0,len(col_string)):\n",
    "        try:\n",
    "            ret_sum += float(col_string[i])\n",
    "        except ValueError:\n",
    "            print(col_string)\n",
    "    return str(ret_sum)\n",
    "\n",
    "def multiplay_col(col):\n",
    "    if(col == 'None' or col==''):\n",
    "        return None\n",
    "    [num1,num2] = remove_junk(col).lower().split('x')\n",
    "    return str(float(num1)*float(num2))\n",
    "\n",
    "\n",
    "def ignore_non_numeric_chars(df,col,ignore_str = r\"[^0-9.]\",replace=''):\n",
    "    return df[col].astype(str).str.replace(ignore_str,replace, regex=True).str.strip()\n",
    "\n",
    "def cleaning_and_converting(df):\n",
    "    df = df.copy()\n",
    "    df['Out Date'] = pd.to_numeric(df['Out Date'])\n",
    "    \n",
    "    df['Weight'] = pd.to_numeric(ignore_non_numeric_chars(df=df,col='Weight'))\n",
    "    \n",
    "\n",
    "    df['Smartphone'] = ignore_non_numeric_chars(df=df,col='Smartphone',ignore_str=r'None',replace='')\n",
    "    \n",
    "    df['RAM Capacity'] = pd.to_numeric(ignore_non_numeric_chars(df=df,col='RAM Capacity'))\n",
    "    \n",
    "    df['CPU speed'] = ignore_non_numeric_chars(df=df,col='CPU speed',ignore_str=r'MHz|nan')\n",
    "    df['CPU speed'] = pd.to_numeric(df['CPU speed'].apply(sum_col))\n",
    "\n",
    "    df['CPU generation'] = pd.to_numeric(ignore_non_numeric_chars(df=df,col='CPU generation',ignore_str=r'[0-9], |None|nan'))\n",
    "    \n",
    "    df['Screen Size'] = pd.to_numeric(ignore_non_numeric_chars(df=df,col='Screen Size'))\n",
    "    df['Number of cores'] = ignore_non_numeric_chars(df=df,col='Number of cores',ignore_str=r'ליבות|\\+ |ליבה|nan')\n",
    "    df['Number of cores'] = ignore_non_numeric_chars(df=df,col='Number of cores',ignore_str=r'אחת',replace='1')\n",
    "    df['Number of cores'] = ignore_non_numeric_chars(df=df,col='Number of cores',ignore_str=r'\\+',replace=' ')\n",
    "    df['Number of cores'] = ignore_non_numeric_chars(df=df,col='Number of cores',ignore_str=r'Octa-core',replace='8')\n",
    "    df['Number of cores'] = pd.to_numeric(df['Number of cores'].apply(sum_col))\n",
    "    \n",
    "    df['Screen Resolution'] = ignore_non_numeric_chars(df=df,col='Screen Resolution',ignore_str=r'פיקסלים|nan')\n",
    "    df['Screen Resolution'] = pd.to_numeric(df['Screen Resolution'].apply(multiplay_col)) \n",
    "    \n",
    "    df['pixels'] = ignore_non_numeric_chars(df=df,col='pixels',ignore_str=r'None')\n",
    "    df['pixels'] = pd.to_numeric(ignore_non_numeric_chars(df=df,col='pixels',ignore_str=r'ppi|nan'))\n",
    "    \n",
    "    df['FPS'] = pd.to_numeric(ignore_non_numeric_chars(df=df,col='FPS',ignore_str=r'None|Hz|nan'))\n",
    "        \n",
    "    df['Front camera'] = df['Front camera'].apply(remove_junk)\n",
    "    \n",
    "    df['Front camera'] = ignore_non_numeric_chars(df=df,col='Front camera',ignore_str=r'לא כולל מגה פיקסל',replace='0')\n",
    "    df['Front camera'] = ignore_non_numeric_chars(df=df,col='Front camera',ignore_str=r'כולל מגה פיקסל',replace='1')\n",
    "    df['Front camera'] = pd.to_numeric(ignore_non_numeric_chars(df=df,col='Front camera',ignore_str=r'\\+ |nan|מגה פיקסל').apply(sum_col))\n",
    "    df['Camera'] = ignore_non_numeric_chars(df=df,col='Camera',ignore_str=r'\\+ |צגה פיקסל|ים|מ|גה|nan|פיקסל')\n",
    "    df['Camera'] = ignore_non_numeric_chars(df=df,col='Camera',ignore_str=r\" \\+\",replace=' ')\n",
    "    df['Camera'] = pd.to_numeric(ignore_non_numeric_chars(df=df,col='Camera',ignore_str=r\"\\+\",replace=' ').apply(sum_col))\n",
    "    \n",
    "    df['NFC'] = pd.to_numeric(df['NFC'])\n",
    "\n",
    "    df['Bluetooth'] = ignore_non_numeric_chars(df=df,col='Bluetooth',ignore_str=r'לא כולל',replace='0')\n",
    "    df['Bluetooth'] = pd.to_numeric(ignore_non_numeric_chars(df=df,col='Bluetooth',ignore_str=r'None|nan'))\n",
    "    \n",
    "    df['Battery capacity'] = pd.to_numeric(ignore_non_numeric_chars(df=df,col='Battery capacity',ignore_str=r'mAh|,|None|nan'))\n",
    "    \n",
    "    df['Min price'] = pd.to_numeric(ignore_non_numeric_chars(df=df,col='Min price',ignore_str=r',|nan'))\n",
    "    df['Max price'] = pd.to_numeric(ignore_non_numeric_chars(df=df,col='Max price',ignore_str=r',|nan'))\n",
    "    # #return df['NFC']\n",
    "    return df\n",
    "\n",
    "\n",
    "cleaning_and_converting(phones_real_na).head()\n"
   ]
  },
  {
   "attachments": {},
   "cell_type": "markdown",
   "metadata": {},
   "source": [
    "<a id='categorical_conversion'></a>\n",
    "<h3>Converting to Categorical</h3>"
   ]
  },
  {
   "cell_type": "code",
   "execution_count": 73,
   "metadata": {},
   "outputs": [
    {
     "data": {
      "text/html": [
       "<div>\n",
       "<style scoped>\n",
       "    .dataframe tbody tr th:only-of-type {\n",
       "        vertical-align: middle;\n",
       "    }\n",
       "\n",
       "    .dataframe tbody tr th {\n",
       "        vertical-align: top;\n",
       "    }\n",
       "\n",
       "    .dataframe thead th {\n",
       "        text-align: right;\n",
       "    }\n",
       "</style>\n",
       "<table border=\"1\" class=\"dataframe\">\n",
       "  <thead>\n",
       "    <tr style=\"text-align: right;\">\n",
       "      <th></th>\n",
       "      <th>Brand</th>\n",
       "      <th>Out Date</th>\n",
       "      <th>Operating System</th>\n",
       "      <th>Weight</th>\n",
       "      <th>Series</th>\n",
       "      <th>Smartphone</th>\n",
       "      <th>Operating interface</th>\n",
       "      <th>RAM Capacity</th>\n",
       "      <th>CPU speed</th>\n",
       "      <th>CPU generation</th>\n",
       "      <th>...</th>\n",
       "      <th>Front camera</th>\n",
       "      <th>Camera</th>\n",
       "      <th>Fingerprint reader</th>\n",
       "      <th>WiFi</th>\n",
       "      <th>Min price</th>\n",
       "      <th>Max price</th>\n",
       "      <th>NFC</th>\n",
       "      <th>Bluetooth</th>\n",
       "      <th>Battery capacity</th>\n",
       "      <th>Page number</th>\n",
       "    </tr>\n",
       "  </thead>\n",
       "  <tbody>\n",
       "    <tr>\n",
       "      <th>0</th>\n",
       "      <td>Samsung</td>\n",
       "      <td>2022.0</td>\n",
       "      <td>Android</td>\n",
       "      <td>177.0</td>\n",
       "      <td>Galaxy S21</td>\n",
       "      <td>1</td>\n",
       "      <td>מסך מגע</td>\n",
       "      <td>8.0</td>\n",
       "      <td>7060.0</td>\n",
       "      <td>4.0</td>\n",
       "      <td>...</td>\n",
       "      <td>32.0</td>\n",
       "      <td>32.0</td>\n",
       "      <td>1</td>\n",
       "      <td>1</td>\n",
       "      <td>1444.0</td>\n",
       "      <td>2529.0</td>\n",
       "      <td>1.0</td>\n",
       "      <td>1.0</td>\n",
       "      <td>4500.0</td>\n",
       "      <td>1.0</td>\n",
       "    </tr>\n",
       "    <tr>\n",
       "      <th>1</th>\n",
       "      <td>Xiaomi</td>\n",
       "      <td>2022.0</td>\n",
       "      <td>Android</td>\n",
       "      <td>179.0</td>\n",
       "      <td>Redmi Note 11</td>\n",
       "      <td>1</td>\n",
       "      <td>מסך מגע</td>\n",
       "      <td>6.0</td>\n",
       "      <td>4300.0</td>\n",
       "      <td>4.0</td>\n",
       "      <td>...</td>\n",
       "      <td>13.0</td>\n",
       "      <td>62.0</td>\n",
       "      <td>1</td>\n",
       "      <td>1</td>\n",
       "      <td>680.0</td>\n",
       "      <td>999.0</td>\n",
       "      <td>1.0</td>\n",
       "      <td>5.0</td>\n",
       "      <td>5000.0</td>\n",
       "      <td>1.0</td>\n",
       "    </tr>\n",
       "    <tr>\n",
       "      <th>2</th>\n",
       "      <td>Samsung</td>\n",
       "      <td>2023.0</td>\n",
       "      <td>Android</td>\n",
       "      <td>234.0</td>\n",
       "      <td>Galaxy S23 Ultra</td>\n",
       "      <td>1</td>\n",
       "      <td>מסך מגע</td>\n",
       "      <td>512.0</td>\n",
       "      <td>8960.0</td>\n",
       "      <td>5.0</td>\n",
       "      <td>...</td>\n",
       "      <td>12.0</td>\n",
       "      <td>232.0</td>\n",
       "      <td>1</td>\n",
       "      <td>1</td>\n",
       "      <td>4489.0</td>\n",
       "      <td>5425.0</td>\n",
       "      <td>1.0</td>\n",
       "      <td>5.3</td>\n",
       "      <td>5000.0</td>\n",
       "      <td>1.0</td>\n",
       "    </tr>\n",
       "    <tr>\n",
       "      <th>3</th>\n",
       "      <td>Samsung</td>\n",
       "      <td>2023.0</td>\n",
       "      <td>Android</td>\n",
       "      <td>234.0</td>\n",
       "      <td>Galaxy S23 Ultra</td>\n",
       "      <td>1</td>\n",
       "      <td>מסך מגע</td>\n",
       "      <td>12.0</td>\n",
       "      <td>10960.0</td>\n",
       "      <td>5.0</td>\n",
       "      <td>...</td>\n",
       "      <td>12.0</td>\n",
       "      <td>232.0</td>\n",
       "      <td>1</td>\n",
       "      <td>1</td>\n",
       "      <td>4005.0</td>\n",
       "      <td>4925.0</td>\n",
       "      <td>1.0</td>\n",
       "      <td>5.3</td>\n",
       "      <td>5000.0</td>\n",
       "      <td>1.0</td>\n",
       "    </tr>\n",
       "    <tr>\n",
       "      <th>4</th>\n",
       "      <td>Samsung</td>\n",
       "      <td>2022.0</td>\n",
       "      <td>Android</td>\n",
       "      <td>228.0</td>\n",
       "      <td>Galaxy S22</td>\n",
       "      <td>1</td>\n",
       "      <td>מסך מגע</td>\n",
       "      <td>12.0</td>\n",
       "      <td>7100.0</td>\n",
       "      <td>4.0</td>\n",
       "      <td>...</td>\n",
       "      <td>40.0</td>\n",
       "      <td>140.0</td>\n",
       "      <td>1</td>\n",
       "      <td>1</td>\n",
       "      <td>3418.0</td>\n",
       "      <td>4589.0</td>\n",
       "      <td>1.0</td>\n",
       "      <td>5.2</td>\n",
       "      <td>5000.0</td>\n",
       "      <td>1.0</td>\n",
       "    </tr>\n",
       "  </tbody>\n",
       "</table>\n",
       "<p>5 rows × 29 columns</p>\n",
       "</div>"
      ],
      "text/plain": [
       "     Brand  Out Date Operating System  Weight            Series  Smartphone  \\\n",
       "0  Samsung    2022.0          Android   177.0        Galaxy S21           1   \n",
       "1   Xiaomi    2022.0          Android   179.0     Redmi Note 11           1   \n",
       "2  Samsung    2023.0          Android   234.0  Galaxy S23 Ultra           1   \n",
       "3  Samsung    2023.0          Android   234.0  Galaxy S23 Ultra           1   \n",
       "4  Samsung    2022.0          Android   228.0        Galaxy S22           1   \n",
       "\n",
       "  Operating interface  RAM Capacity  CPU speed  CPU generation  ...  \\\n",
       "0             מסך מגע           8.0     7060.0             4.0  ...   \n",
       "1             מסך מגע           6.0     4300.0             4.0  ...   \n",
       "2             מסך מגע         512.0     8960.0             5.0  ...   \n",
       "3             מסך מגע          12.0    10960.0             5.0  ...   \n",
       "4             מסך מגע          12.0     7100.0             4.0  ...   \n",
       "\n",
       "   Front camera  Camera  Fingerprint reader  WiFi  Min price Max price  NFC  \\\n",
       "0          32.0    32.0                   1     1     1444.0    2529.0  1.0   \n",
       "1          13.0    62.0                   1     1      680.0     999.0  1.0   \n",
       "2          12.0   232.0                   1     1     4489.0    5425.0  1.0   \n",
       "3          12.0   232.0                   1     1     4005.0    4925.0  1.0   \n",
       "4          40.0   140.0                   1     1     3418.0    4589.0  1.0   \n",
       "\n",
       "  Bluetooth Battery capacity  Page number  \n",
       "0       1.0           4500.0          1.0  \n",
       "1       5.0           5000.0          1.0  \n",
       "2       5.3           5000.0          1.0  \n",
       "3       5.3           5000.0          1.0  \n",
       "4       5.2           5000.0          1.0  \n",
       "\n",
       "[5 rows x 29 columns]"
      ]
     },
     "execution_count": 73,
     "metadata": {},
     "output_type": "execute_result"
    }
   ],
   "source": [
    "# ['Brand','Operating System','Operating interface', 'Screen Type', 'Colors','Fingerprint reader','GPU','Fingerprint reader']\n",
    "\n",
    "categorical_phones = cleaning_and_converting(phones_real_na)\n",
    "categorical_phones['Water resistance'] = pd.to_numeric(categorical_phones['Water resistance'].apply(lambda col: 0 if col is None else 1))\n",
    "\n",
    "categorical_phones['NFC'] = pd.to_numeric(categorical_phones['NFC'])\n",
    "\n",
    "categorical_phones['Smartphone'] = np.where(categorical_phones['Smartphone'].str.strip()  == 'סמארטפון', 1 , 0)\n",
    "\n",
    "categorical_phones['Fingerprint reader'] = pd.to_numeric(categorical_phones['Fingerprint reader'].fillna(0))\n",
    "\n",
    "categorical_phones['NFC'] = pd.to_numeric(categorical_phones['NFC'].fillna(0))\n",
    "\n",
    "categorical_phones['WiFi'] = pd.to_numeric(np.where(categorical_phones['WiFi'] != 1,0,1))\n",
    "\n",
    "categorical_phones.head()"
   ]
  },
  {
   "attachments": {},
   "cell_type": "markdown",
   "metadata": {},
   "source": [
    "<a id='removing_duplicates'></a>\n",
    "<h3>Removing Duplicates</h3>"
   ]
  },
  {
   "cell_type": "code",
   "execution_count": 74,
   "metadata": {},
   "outputs": [],
   "source": [
    "phones_no_dup = categorical_phones[categorical_phones.duplicated()]"
   ]
  },
  {
   "attachments": {},
   "cell_type": "markdown",
   "metadata": {},
   "source": [
    "<p>Lets see how many rows did we lose and the NA count:</p>"
   ]
  },
  {
   "cell_type": "code",
   "execution_count": 75,
   "metadata": {},
   "outputs": [
    {
     "name": "stdout",
     "output_type": "stream",
     "text": [
      "<class 'pandas.core.frame.DataFrame'>\n",
      "Int64Index: 1132 entries, 8 to 2200\n",
      "Data columns (total 29 columns):\n",
      " #   Column               Non-Null Count  Dtype  \n",
      "---  ------               --------------  -----  \n",
      " 0   FPS                  472 non-null    float64\n",
      " 1   GPU                  504 non-null    object \n",
      " 2   Colors               517 non-null    object \n",
      " 3   CPU speed            708 non-null    float64\n",
      " 4   Series               716 non-null    object \n",
      " 5   Number of cores      781 non-null    float64\n",
      " 6   Out Date             830 non-null    float64\n",
      " 7   Battery capacity     856 non-null    float64\n",
      " 8   Camera               868 non-null    float64\n",
      " 9   RAM Capacity         921 non-null    float64\n",
      " 10  Screen Type          929 non-null    object \n",
      " 11  Screen Resolution    933 non-null    float64\n",
      " 12  Operating System     936 non-null    object \n",
      " 13  pixels               944 non-null    float64\n",
      " 14  Weight               948 non-null    float64\n",
      " 15  Bluetooth            957 non-null    float64\n",
      " 16  CPU generation       958 non-null    float64\n",
      " 17  Front camera         964 non-null    float64\n",
      " 18  Screen Size          967 non-null    float64\n",
      " 19  Operating interface  1001 non-null   object \n",
      " 20  Brand                1008 non-null   object \n",
      " 21  Min price            1129 non-null   float64\n",
      " 22  Max price            1129 non-null   float64\n",
      " 23  Page number          1129 non-null   float64\n",
      " 24  Fingerprint reader   1132 non-null   int64  \n",
      " 25  WiFi                 1132 non-null   int32  \n",
      " 26  NFC                  1132 non-null   float64\n",
      " 27  Smartphone           1132 non-null   int32  \n",
      " 28  Water resistance     1132 non-null   int64  \n",
      "dtypes: float64(18), int32(2), int64(2), object(7)\n",
      "memory usage: 256.5+ KB\n"
     ]
    }
   ],
   "source": [
    "phones_no_dup[phones_no_dup.notna().sum().sort_values().index].info() "
   ]
  },
  {
   "attachments": {},
   "cell_type": "markdown",
   "metadata": {},
   "source": [
    "<p>It looks like we did have any duplicates. so lets continue reviewing the NA's:</p>"
   ]
  },
  {
   "cell_type": "code",
   "execution_count": 76,
   "metadata": {},
   "outputs": [
    {
     "data": {
      "text/html": [
       "<div>\n",
       "<style scoped>\n",
       "    .dataframe tbody tr th:only-of-type {\n",
       "        vertical-align: middle;\n",
       "    }\n",
       "\n",
       "    .dataframe tbody tr th {\n",
       "        vertical-align: top;\n",
       "    }\n",
       "\n",
       "    .dataframe thead th {\n",
       "        text-align: right;\n",
       "    }\n",
       "</style>\n",
       "<table border=\"1\" class=\"dataframe\">\n",
       "  <thead>\n",
       "    <tr style=\"text-align: right;\">\n",
       "      <th></th>\n",
       "      <th>Out Date</th>\n",
       "      <th>Weight</th>\n",
       "      <th>Smartphone</th>\n",
       "      <th>RAM Capacity</th>\n",
       "      <th>CPU speed</th>\n",
       "      <th>CPU generation</th>\n",
       "      <th>Screen Size</th>\n",
       "      <th>Number of cores</th>\n",
       "      <th>Screen Resolution</th>\n",
       "      <th>pixels</th>\n",
       "      <th>...</th>\n",
       "      <th>Front camera</th>\n",
       "      <th>Camera</th>\n",
       "      <th>Fingerprint reader</th>\n",
       "      <th>WiFi</th>\n",
       "      <th>Min price</th>\n",
       "      <th>Max price</th>\n",
       "      <th>NFC</th>\n",
       "      <th>Bluetooth</th>\n",
       "      <th>Battery capacity</th>\n",
       "      <th>Page number</th>\n",
       "    </tr>\n",
       "  </thead>\n",
       "  <tbody>\n",
       "    <tr>\n",
       "      <th>count</th>\n",
       "      <td>830.000000</td>\n",
       "      <td>948.000000</td>\n",
       "      <td>1132.000000</td>\n",
       "      <td>921.000000</td>\n",
       "      <td>708.000000</td>\n",
       "      <td>958.000000</td>\n",
       "      <td>967.000000</td>\n",
       "      <td>781.000000</td>\n",
       "      <td>9.330000e+02</td>\n",
       "      <td>944.000000</td>\n",
       "      <td>...</td>\n",
       "      <td>964.000000</td>\n",
       "      <td>868.000000</td>\n",
       "      <td>1132.000000</td>\n",
       "      <td>1132.000000</td>\n",
       "      <td>1129.000000</td>\n",
       "      <td>1129.000000</td>\n",
       "      <td>1132.000000</td>\n",
       "      <td>957.000000</td>\n",
       "      <td>856.000000</td>\n",
       "      <td>1129.000000</td>\n",
       "    </tr>\n",
       "    <tr>\n",
       "      <th>mean</th>\n",
       "      <td>2019.978313</td>\n",
       "      <td>185.916772</td>\n",
       "      <td>0.820671</td>\n",
       "      <td>10.186754</td>\n",
       "      <td>5184.795339</td>\n",
       "      <td>4.196242</td>\n",
       "      <td>6.140259</td>\n",
       "      <td>16.649168</td>\n",
       "      <td>2.525491e+06</td>\n",
       "      <td>393.718220</td>\n",
       "      <td>...</td>\n",
       "      <td>14.419502</td>\n",
       "      <td>54.411647</td>\n",
       "      <td>0.670495</td>\n",
       "      <td>0.837456</td>\n",
       "      <td>1587.813109</td>\n",
       "      <td>1966.806023</td>\n",
       "      <td>0.717314</td>\n",
       "      <td>4.822675</td>\n",
       "      <td>4217.908879</td>\n",
       "      <td>8.476528</td>\n",
       "    </tr>\n",
       "    <tr>\n",
       "      <th>std</th>\n",
       "      <td>2.413175</td>\n",
       "      <td>33.095061</td>\n",
       "      <td>0.383797</td>\n",
       "      <td>40.862679</td>\n",
       "      <td>1912.664470</td>\n",
       "      <td>0.509683</td>\n",
       "      <td>1.090818</td>\n",
       "      <td>252.356519</td>\n",
       "      <td>1.090989e+06</td>\n",
       "      <td>88.086968</td>\n",
       "      <td>...</td>\n",
       "      <td>9.275897</td>\n",
       "      <td>38.714136</td>\n",
       "      <td>0.470241</td>\n",
       "      <td>0.369112</td>\n",
       "      <td>1212.949261</td>\n",
       "      <td>1541.164804</td>\n",
       "      <td>0.450504</td>\n",
       "      <td>0.875490</td>\n",
       "      <td>1162.393582</td>\n",
       "      <td>5.437722</td>\n",
       "    </tr>\n",
       "    <tr>\n",
       "      <th>min</th>\n",
       "      <td>2002.000000</td>\n",
       "      <td>69.800000</td>\n",
       "      <td>0.000000</td>\n",
       "      <td>2.000000</td>\n",
       "      <td>1.100000</td>\n",
       "      <td>2.000000</td>\n",
       "      <td>1.430000</td>\n",
       "      <td>1.000000</td>\n",
       "      <td>1.638400e+04</td>\n",
       "      <td>111.000000</td>\n",
       "      <td>...</td>\n",
       "      <td>0.000000</td>\n",
       "      <td>0.300000</td>\n",
       "      <td>0.000000</td>\n",
       "      <td>0.000000</td>\n",
       "      <td>29.000000</td>\n",
       "      <td>29.000000</td>\n",
       "      <td>0.000000</td>\n",
       "      <td>0.000000</td>\n",
       "      <td>430.000000</td>\n",
       "      <td>1.000000</td>\n",
       "    </tr>\n",
       "    <tr>\n",
       "      <th>25%</th>\n",
       "      <td>2019.000000</td>\n",
       "      <td>175.000000</td>\n",
       "      <td>1.000000</td>\n",
       "      <td>4.000000</td>\n",
       "      <td>4000.000000</td>\n",
       "      <td>4.000000</td>\n",
       "      <td>6.100000</td>\n",
       "      <td>8.000000</td>\n",
       "      <td>2.462400e+06</td>\n",
       "      <td>393.000000</td>\n",
       "      <td>...</td>\n",
       "      <td>8.000000</td>\n",
       "      <td>24.000000</td>\n",
       "      <td>0.000000</td>\n",
       "      <td>1.000000</td>\n",
       "      <td>725.000000</td>\n",
       "      <td>849.000000</td>\n",
       "      <td>0.000000</td>\n",
       "      <td>5.000000</td>\n",
       "      <td>3951.750000</td>\n",
       "      <td>4.000000</td>\n",
       "    </tr>\n",
       "    <tr>\n",
       "      <th>50%</th>\n",
       "      <td>2021.000000</td>\n",
       "      <td>189.000000</td>\n",
       "      <td>1.000000</td>\n",
       "      <td>6.000000</td>\n",
       "      <td>4400.000000</td>\n",
       "      <td>4.000000</td>\n",
       "      <td>6.500000</td>\n",
       "      <td>8.000000</td>\n",
       "      <td>2.592000e+06</td>\n",
       "      <td>402.000000</td>\n",
       "      <td>...</td>\n",
       "      <td>12.000000</td>\n",
       "      <td>54.000000</td>\n",
       "      <td>1.000000</td>\n",
       "      <td>1.000000</td>\n",
       "      <td>1260.000000</td>\n",
       "      <td>1499.000000</td>\n",
       "      <td>1.000000</td>\n",
       "      <td>5.000000</td>\n",
       "      <td>4500.000000</td>\n",
       "      <td>8.000000</td>\n",
       "    </tr>\n",
       "    <tr>\n",
       "      <th>75%</th>\n",
       "      <td>2021.000000</td>\n",
       "      <td>202.000000</td>\n",
       "      <td>1.000000</td>\n",
       "      <td>8.000000</td>\n",
       "      <td>7060.000000</td>\n",
       "      <td>4.000000</td>\n",
       "      <td>6.670000</td>\n",
       "      <td>8.000000</td>\n",
       "      <td>2.740500e+06</td>\n",
       "      <td>446.750000</td>\n",
       "      <td>...</td>\n",
       "      <td>16.000000</td>\n",
       "      <td>74.000000</td>\n",
       "      <td>1.000000</td>\n",
       "      <td>1.000000</td>\n",
       "      <td>2099.000000</td>\n",
       "      <td>2699.000000</td>\n",
       "      <td>1.000000</td>\n",
       "      <td>5.100000</td>\n",
       "      <td>5000.000000</td>\n",
       "      <td>12.000000</td>\n",
       "    </tr>\n",
       "    <tr>\n",
       "      <th>max</th>\n",
       "      <td>2023.000000</td>\n",
       "      <td>367.000000</td>\n",
       "      <td>1.000000</td>\n",
       "      <td>512.000000</td>\n",
       "      <td>10960.000000</td>\n",
       "      <td>5.000000</td>\n",
       "      <td>7.600000</td>\n",
       "      <td>7060.000000</td>\n",
       "      <td>4.631040e+06</td>\n",
       "      <td>570.000000</td>\n",
       "      <td>...</td>\n",
       "      <td>58.000000</td>\n",
       "      <td>232.000000</td>\n",
       "      <td>1.000000</td>\n",
       "      <td>1.000000</td>\n",
       "      <td>7449.000000</td>\n",
       "      <td>8100.000000</td>\n",
       "      <td>1.000000</td>\n",
       "      <td>5.300000</td>\n",
       "      <td>8580.000000</td>\n",
       "      <td>22.000000</td>\n",
       "    </tr>\n",
       "  </tbody>\n",
       "</table>\n",
       "<p>8 rows × 22 columns</p>\n",
       "</div>"
      ],
      "text/plain": [
       "          Out Date      Weight   Smartphone  RAM Capacity     CPU speed  \\\n",
       "count   830.000000  948.000000  1132.000000    921.000000    708.000000   \n",
       "mean   2019.978313  185.916772     0.820671     10.186754   5184.795339   \n",
       "std       2.413175   33.095061     0.383797     40.862679   1912.664470   \n",
       "min    2002.000000   69.800000     0.000000      2.000000      1.100000   \n",
       "25%    2019.000000  175.000000     1.000000      4.000000   4000.000000   \n",
       "50%    2021.000000  189.000000     1.000000      6.000000   4400.000000   \n",
       "75%    2021.000000  202.000000     1.000000      8.000000   7060.000000   \n",
       "max    2023.000000  367.000000     1.000000    512.000000  10960.000000   \n",
       "\n",
       "       CPU generation  Screen Size  Number of cores  Screen Resolution  \\\n",
       "count      958.000000   967.000000       781.000000       9.330000e+02   \n",
       "mean         4.196242     6.140259        16.649168       2.525491e+06   \n",
       "std          0.509683     1.090818       252.356519       1.090989e+06   \n",
       "min          2.000000     1.430000         1.000000       1.638400e+04   \n",
       "25%          4.000000     6.100000         8.000000       2.462400e+06   \n",
       "50%          4.000000     6.500000         8.000000       2.592000e+06   \n",
       "75%          4.000000     6.670000         8.000000       2.740500e+06   \n",
       "max          5.000000     7.600000      7060.000000       4.631040e+06   \n",
       "\n",
       "           pixels  ...  Front camera      Camera  Fingerprint reader  \\\n",
       "count  944.000000  ...    964.000000  868.000000         1132.000000   \n",
       "mean   393.718220  ...     14.419502   54.411647            0.670495   \n",
       "std     88.086968  ...      9.275897   38.714136            0.470241   \n",
       "min    111.000000  ...      0.000000    0.300000            0.000000   \n",
       "25%    393.000000  ...      8.000000   24.000000            0.000000   \n",
       "50%    402.000000  ...     12.000000   54.000000            1.000000   \n",
       "75%    446.750000  ...     16.000000   74.000000            1.000000   \n",
       "max    570.000000  ...     58.000000  232.000000            1.000000   \n",
       "\n",
       "              WiFi    Min price    Max price          NFC   Bluetooth  \\\n",
       "count  1132.000000  1129.000000  1129.000000  1132.000000  957.000000   \n",
       "mean      0.837456  1587.813109  1966.806023     0.717314    4.822675   \n",
       "std       0.369112  1212.949261  1541.164804     0.450504    0.875490   \n",
       "min       0.000000    29.000000    29.000000     0.000000    0.000000   \n",
       "25%       1.000000   725.000000   849.000000     0.000000    5.000000   \n",
       "50%       1.000000  1260.000000  1499.000000     1.000000    5.000000   \n",
       "75%       1.000000  2099.000000  2699.000000     1.000000    5.100000   \n",
       "max       1.000000  7449.000000  8100.000000     1.000000    5.300000   \n",
       "\n",
       "       Battery capacity  Page number  \n",
       "count        856.000000  1129.000000  \n",
       "mean        4217.908879     8.476528  \n",
       "std         1162.393582     5.437722  \n",
       "min          430.000000     1.000000  \n",
       "25%         3951.750000     4.000000  \n",
       "50%         4500.000000     8.000000  \n",
       "75%         5000.000000    12.000000  \n",
       "max         8580.000000    22.000000  \n",
       "\n",
       "[8 rows x 22 columns]"
      ]
     },
     "execution_count": 76,
     "metadata": {},
     "output_type": "execute_result"
    }
   ],
   "source": [
    "phones_no_dup.describe()"
   ]
  },
  {
   "attachments": {},
   "cell_type": "markdown",
   "metadata": {},
   "source": [
    "<p>\n",
    "it looks like the following coulmns are lacking in data:\n",
    "<ul>\n",
    "<strong>\n",
    "<li>FPS</li>\n",
    "<li>GPU</li>\n",
    "<li>Colors</li>\n",
    "</strong>\n",
    "</ul>\n",
    "look like we don't need all of the information, let's remove the colunms\n",
    "</p>"
   ]
  },
  {
   "cell_type": "code",
   "execution_count": 77,
   "metadata": {},
   "outputs": [
    {
     "name": "stdout",
     "output_type": "stream",
     "text": [
      "<class 'pandas.core.frame.DataFrame'>\n",
      "Int64Index: 518 entries, 8 to 1916\n",
      "Data columns (total 26 columns):\n",
      " #   Column               Non-Null Count  Dtype  \n",
      "---  ------               --------------  -----  \n",
      " 0   Brand                518 non-null    object \n",
      " 1   Out Date             518 non-null    float64\n",
      " 2   Operating System     518 non-null    object \n",
      " 3   Weight               518 non-null    float64\n",
      " 4   Series               518 non-null    object \n",
      " 5   Smartphone           518 non-null    int32  \n",
      " 6   Operating interface  518 non-null    object \n",
      " 7   RAM Capacity         518 non-null    float64\n",
      " 8   CPU speed            518 non-null    float64\n",
      " 9   CPU generation       518 non-null    float64\n",
      " 10  Screen Size          518 non-null    float64\n",
      " 11  Number of cores      518 non-null    float64\n",
      " 12  Screen Resolution    518 non-null    float64\n",
      " 13  pixels               518 non-null    float64\n",
      " 14  Screen Type          518 non-null    object \n",
      " 15  Water resistance     518 non-null    int64  \n",
      " 16  Front camera         518 non-null    float64\n",
      " 17  Camera               518 non-null    float64\n",
      " 18  Fingerprint reader   518 non-null    int64  \n",
      " 19  WiFi                 518 non-null    int32  \n",
      " 20  Min price            518 non-null    float64\n",
      " 21  Max price            518 non-null    float64\n",
      " 22  NFC                  518 non-null    float64\n",
      " 23  Bluetooth            518 non-null    float64\n",
      " 24  Battery capacity     518 non-null    float64\n",
      " 25  Page number          518 non-null    float64\n",
      "dtypes: float64(17), int32(2), int64(2), object(5)\n",
      "memory usage: 105.2+ KB\n"
     ]
    }
   ],
   "source": [
    "phones_droped_cols = phones_no_dup.drop(['FPS','GPU','Colors'] , axis = 1) \n",
    "phones_droped_cols.dropna(how='any').info()"
   ]
  },
  {
   "attachments": {},
   "cell_type": "markdown",
   "metadata": {},
   "source": [
    "<p>Not a big improvement... lets try filling-in the rest:</p>\n"
   ]
  },
  {
   "attachments": {},
   "cell_type": "markdown",
   "metadata": {},
   "source": [
    "<a id='filling_in_missing_values'></a>\n",
    "<h3>Filling in missing values<h3>"
   ]
  },
  {
   "attachments": {},
   "cell_type": "markdown",
   "metadata": {},
   "source": [
    "<h4>First, lets try filling-in <strong>CPU generation</strong>:</h4>\n",
    "<h5>Mean or Median?</h5>\n",
    "<p>\n",
    "    In order to decide in which metric to replace <strong>CPU generation</strong> (mean/median) we want to replace NA values we wanted to base our decision over the distribution of the metric.\n",
    "</p>"
   ]
  },
  {
   "cell_type": "code",
   "execution_count": 78,
   "metadata": {},
   "outputs": [
    {
     "name": "stdout",
     "output_type": "stream",
     "text": [
      "2.0\n",
      "5.0\n"
     ]
    },
    {
     "data": {
      "image/png": "[encoded data removed]",
      "text/plain": [
       "<Figure size 640x480 with 1 Axes>"
      ]
     },
     "metadata": {},
     "output_type": "display_data"
    }
   ],
   "source": [
    "print(phones_droped_cols['CPU generation'].min())\n",
    "print(phones_droped_cols['CPU generation'].max())\n",
    "\n",
    "sns.histplot(phones_droped_cols['CPU generation'])\n",
    "plt.show()"
   ]
  },
  {
   "attachments": {},
   "cell_type": "markdown",
   "metadata": {},
   "source": [
    "<p>it seems like 4 is the right choice to fill-in the NA's so we'll go with that</p>"
   ]
  },
  {
   "cell_type": "code",
   "execution_count": 79,
   "metadata": {},
   "outputs": [],
   "source": [
    "most_freq_CPU_generation = phones_droped_cols['CPU generation'].mode()[0]\n",
    "phones_droped_cols['CPU generation'] = phones_droped_cols['CPU generation'].fillna(most_freq_CPU_generation)\n"
   ]
  },
  {
   "attachments": {},
   "cell_type": "markdown",
   "metadata": {},
   "source": [
    "<h3>Lets do the same for <strong>CPU speed</strong>:</h3>\n"
   ]
  },
  {
   "cell_type": "code",
   "execution_count": 80,
   "metadata": {},
   "outputs": [
    {
     "name": "stdout",
     "output_type": "stream",
     "text": [
      "1.1\n",
      "10960.0\n"
     ]
    },
    {
     "data": {
      "image/png": "[encoded data removed]",
      "text/plain": [
       "<Figure size 640x480 with 1 Axes>"
      ]
     },
     "metadata": {},
     "output_type": "display_data"
    }
   ],
   "source": [
    "print(phones_droped_cols['CPU speed'].min())\n",
    "print(phones_droped_cols['CPU speed'].max())\n",
    "\n",
    "sns.histplot(phones_droped_cols['CPU speed'])\n",
    "plt.show()"
   ]
  },
  {
   "attachments": {},
   "cell_type": "markdown",
   "metadata": {},
   "source": [
    "<p>\n",
    "As can be seen, the distribution can show us that there are not so many outliers.\n",
    "So we are going to use mean.\n",
    "</p>"
   ]
  },
  {
   "cell_type": "code",
   "execution_count": 81,
   "metadata": {},
   "outputs": [],
   "source": [
    "cpu_speed_mean = phones_droped_cols['CPU speed'].mean()\n",
    "\n",
    "phones_droped_cols['CPU speed'] = np.where(\n",
    "    phones_droped_cols['CPU speed'].isnull(),\n",
    "    cpu_speed_mean,\n",
    "    phones_droped_cols['CPU speed']\n",
    ")\n"
   ]
  },
  {
   "attachments": {},
   "cell_type": "markdown",
   "metadata": {},
   "source": [
    "\n",
    "<h3>Now, lets try filling-in <strong>Screen Type</strong> and <strong>Operating interface</strong>:</h3>\n",
    "<p>\n",
    "  Screen Type and Operating interface are string values, so we'll do the same for them:\n",
    "</p>"
   ]
  },
  {
   "cell_type": "code",
   "execution_count": 82,
   "metadata": {},
   "outputs": [],
   "source": [
    "most_freq_GPU = phones_droped_cols['Screen Type'].mode()[0]\n",
    "phones_droped_cols['Screen Type'] = phones_droped_cols['Screen Type'].fillna(most_freq_GPU)\n",
    "\n",
    "most_freq_memory_type = phones_droped_cols['Operating interface'].mode()[0]\n",
    "phones_droped_cols['Operating interface'] = phones_droped_cols['Operating interface'].fillna(most_freq_memory_type)\n"
   ]
  },
  {
   "attachments": {},
   "cell_type": "markdown",
   "metadata": {},
   "source": [
    "<p>lets see how that went for us:</p>"
   ]
  },
  {
   "cell_type": "code",
   "execution_count": 83,
   "metadata": {},
   "outputs": [
    {
     "name": "stdout",
     "output_type": "stream",
     "text": [
      "<class 'pandas.core.frame.DataFrame'>\n",
      "Int64Index: 560 entries, 8 to 1916\n",
      "Data columns (total 26 columns):\n",
      " #   Column               Non-Null Count  Dtype  \n",
      "---  ------               --------------  -----  \n",
      " 0   Brand                560 non-null    object \n",
      " 1   Out Date             560 non-null    float64\n",
      " 2   Operating System     560 non-null    object \n",
      " 3   Weight               560 non-null    float64\n",
      " 4   Series               560 non-null    object \n",
      " 5   Smartphone           560 non-null    int32  \n",
      " 6   Operating interface  560 non-null    object \n",
      " 7   RAM Capacity         560 non-null    float64\n",
      " 8   CPU speed            560 non-null    float64\n",
      " 9   CPU generation       560 non-null    float64\n",
      " 10  Screen Size          560 non-null    float64\n",
      " 11  Number of cores      560 non-null    float64\n",
      " 12  Screen Resolution    560 non-null    float64\n",
      " 13  pixels               560 non-null    float64\n",
      " 14  Screen Type          560 non-null    object \n",
      " 15  Water resistance     560 non-null    int64  \n",
      " 16  Front camera         560 non-null    float64\n",
      " 17  Camera               560 non-null    float64\n",
      " 18  Fingerprint reader   560 non-null    int64  \n",
      " 19  WiFi                 560 non-null    int32  \n",
      " 20  Min price            560 non-null    float64\n",
      " 21  Max price            560 non-null    float64\n",
      " 22  NFC                  560 non-null    float64\n",
      " 23  Bluetooth            560 non-null    float64\n",
      " 24  Battery capacity     560 non-null    float64\n",
      " 25  Page number          560 non-null    float64\n",
      "dtypes: float64(17), int32(2), int64(2), object(5)\n",
      "memory usage: 113.8+ KB\n"
     ]
    }
   ],
   "source": [
    "phones_droped_cols.dropna(how='any').info() "
   ]
  },
  {
   "cell_type": "code",
   "execution_count": 84,
   "metadata": {},
   "outputs": [],
   "source": [
    "phones_eda = phones_droped_cols.copy().dropna(how='any') "
   ]
  },
  {
   "attachments": {},
   "cell_type": "markdown",
   "metadata": {},
   "source": [
    "<p>we saved 558 rows! what a success!</p>\n"
   ]
  },
  {
   "attachments": {},
   "cell_type": "markdown",
   "metadata": {},
   "source": [
    "<a id='min_max_to_price'></a>\n",
    "<h3>Min price, Max price to just Price!</h3>\n",
    "<p>\n",
    "    currently, Zap provided us with <strong>Min Price</strong> and <strong>Max Price</strong><br>\n",
    "    but for our predictions we will need only <strong>Price</strong>.\n",
    "</p>"
   ]
  },
  {
   "cell_type": "code",
   "execution_count": 85,
   "metadata": {},
   "outputs": [],
   "source": [
    "phones_eda['Price'] = (phones_eda['Max price'] + phones_eda['Min price'])/2\n",
    "phones_eda['Price'] = (phones_eda['Price'] - phones_eda['Price'].min()) / (phones_eda['Price'].max() - phones_eda['Price'].min())\n",
    "phones_eda = phones_eda.drop([\"Max price\" , \"Min price\" ] , axis = 1) "
   ]
  },
  {
   "attachments": {},
   "cell_type": "markdown",
   "metadata": {},
   "source": [
    "<a id='eda'></a>\n",
    "<h1>EDA</h1>"
   ]
  },
  {
   "attachments": {},
   "cell_type": "markdown",
   "metadata": {},
   "source": [
    "<p>\n",
    "    <ul>\n",
    "        <li>create_heatmap - a function made in order to create and display a heatmap.</li>"
   ]
  },
  {
   "cell_type": "code",
   "execution_count": 86,
   "metadata": {},
   "outputs": [],
   "source": [
    "def create_heatmap(numeric_df):\n",
    "    first_col = numeric_df.pop('Price')\n",
    "    numeric_df.insert(0, 'Price', first_col)\n",
    "    sns.heatmap(numeric_df.corr())"
   ]
  },
  {
   "attachments": {},
   "cell_type": "markdown",
   "metadata": {},
   "source": [
    "<a id='numeric_correlation'></a>\n",
    "<h3>Numeric fields Correlation to Price</h3>\n",
    "<p>We would like now to create a heatmap in order to check the correlation of the numeric values on the price:</p>"
   ]
  },
  {
   "cell_type": "code",
   "execution_count": 87,
   "metadata": {},
   "outputs": [
    {
     "data": {
      "image/png": "[encoded data removed]",
      "text/plain": [
       "<Figure size 640x480 with 2 Axes>"
      ]
     },
     "metadata": {},
     "output_type": "display_data"
    }
   ],
   "source": [
    "phones_for_heatmap = phones_eda.select_dtypes(include='number')\n",
    "create_heatmap(phones_for_heatmap)"
   ]
  },
  {
   "attachments": {},
   "cell_type": "markdown",
   "metadata": {},
   "source": [
    "<p>As we can see, the numeric values alone won't help us in our research. but, it seems like we should look into <strong>CPU speed</strong>.<br>\n",
    "<strong>Screen Resolution</strong> also has a high correlation to price. We can learn from that, that relevence affects the price as well.</p>"
   ]
  },
  {
   "attachments": {},
   "cell_type": "markdown",
   "metadata": {},
   "source": [
    "<a id='CPU speed_distribution'></a>\n",
    "<h3>CPU speed distribution</h3>"
   ]
  },
  {
   "cell_type": "code",
   "execution_count": 88,
   "metadata": {},
   "outputs": [
    {
     "data": {
      "image/png": "[encoded data removed]",
      "text/plain": [
       "<Figure size 1800x400 with 1 Axes>"
      ]
     },
     "metadata": {},
     "output_type": "display_data"
    }
   ],
   "source": [
    "fig, ax = plt.subplots(figsize=(18, 4))\n",
    "fg = sns.histplot(phones_eda['RAM Capacity'], ax=ax)\n",
    "fg.set_title(\"RAM Capacities Histogram\")\n",
    "fg.set_xlabel(\"RAM Capacity\")\n",
    "plt.xticks(rotation=90, ha='right', rotation_mode='anchor')\n",
    "plt.show()"
   ]
  },
  {
   "attachments": {},
   "cell_type": "markdown",
   "metadata": {},
   "source": [
    "<p>it seems that most laptops use 8 or 16 GB of RAM.</p>"
   ]
  },
  {
   "cell_type": "code",
   "execution_count": null,
   "metadata": {},
   "outputs": [],
   "source": [
    "ram_capacity_counts = laptop_eda['RAM Capacity'].value_counts()\n",
    "laptops_price_mean_by_ram_capacity = laptop_eda.groupby('RAM Capacity', as_index=False)['Price'].mean()\n",
    "laptops_price_mean_by_ram_capacity.sort_values(by=\"Price\", inplace=True, ascending=False)\n",
    "\n",
    "labels = [\"RAM Capacity: %s\" % i for i in ram_capacity_counts.index]\n",
    "\n",
    "fig1, ax1 = plt.subplots(figsize=(6, 5))\n",
    "fig1.subplots_adjust(0.3,0,1,1)\n",
    "\n",
    "_, _ = ax1.pie(laptops_price_mean_by_ram_capacity['Price'].tolist(), startangle=90)\n",
    "\n",
    "ax1.axis('equal')\n",
    "\n",
    "plt.legend(\n",
    "    loc='upper left',\n",
    "    labels=['%s, average=%1.1f' % (\n",
    "        l, (v)) for l, s, v in zip(labels, laptops_price_mean_by_ram_capacity.index, laptops_price_mean_by_ram_capacity['Price'].tolist())],\n",
    "    prop={'size': 11},\n",
    "    bbox_to_anchor=(0.0, 1),\n",
    "    bbox_transform=fig1.transFigure\n",
    ")\n",
    "\n",
    "plt.show()"
   ]
  },
  {
   "attachments": {},
   "cell_type": "markdown",
   "metadata": {},
   "source": [
    "<p>We can learn from this graph that high priced laptops use 8 and 16 GB RAM. due to their distrabution we assume it's because of their populatiry</p>"
   ]
  },
  {
   "attachments": {},
   "cell_type": "markdown",
   "metadata": {},
   "source": [
    "<a id='brands_distribution'></a>\n",
    "<h3>Brands distribution</h3>"
   ]
  },
  {
   "cell_type": "code",
   "execution_count": null,
   "metadata": {},
   "outputs": [],
   "source": [
    "\n",
    "fig = plt.figure(figsize=(20, 6)) \n",
    "gs = gridspec.GridSpec(1, 2, width_ratios=[3.5, 2.5]) \n",
    "ax1 = plt.subplot(gs[0])\n",
    "ax2 = plt.subplot(gs[1])\n",
    "\n",
    "\n",
    "#histogram:\n",
    "fg = sns.histplot(laptop_eda['Brand'], ax=ax1)\n",
    "fg.set_title(\"Brands Histogram\")\n",
    "fg.set_xlabel(\"Brand\")\n",
    "plt.xticks(rotation=90, ha='right', rotation_mode='anchor')\n",
    "\n",
    "laptopts_by_brand_count = laptop_eda['Brand'].value_counts()\n",
    "\n",
    "total_laptops = laptop_eda.shape[0]\n",
    "\n",
    "labels = [\"Brand: %s\" % i for i in laptopts_by_brand_count.index]\n",
    "\n",
    "#pie chart:\n",
    "_, _ = ax2.pie(laptopts_by_brand_count.values, startangle=90)\n",
    "\n",
    "ax2.axis('equal')\n",
    "\n",
    "plt.legend(\n",
    "    loc='upper left',\n",
    "    labels=['%s, %1.1f%%' % (\n",
    "        l, (v / total_laptops * 100)) for l, s, v in zip(labels, laptopts_by_brand_count.index, laptopts_by_brand_count.values)],\n",
    "    prop={'size': 11},\n",
    "    bbox_to_anchor=(0.0, 1),\n",
    "    # bbox_transform=fig1.transFigure\n",
    ")\n",
    "plt.show()"
   ]
  },
  {
   "attachments": {},
   "cell_type": "markdown",
   "metadata": {},
   "source": [
    "<p>as can be seen, Lenovo, Asus, Dell and HP are the largest \"players\" in the market. and Apple and Acer also take a small portion of the market</p><br>\n",
    "<p>this also checks out with a simple google search:</p>"
   ]
  },
  {
   "attachments": {},
   "cell_type": "markdown",
   "metadata": {},
   "source": [
    "<img width=\"50%\" height=\"50%\" style=\"margin-right:5px\" src=\"images/laptop_market_share_1.png\"/><img src=\"images/laptop_market_share_2.png\"/>"
   ]
  },
  {
   "attachments": {},
   "cell_type": "markdown",
   "metadata": {},
   "source": [
    "<a id='mean_price_by_brand_'></a>\n",
    "\n",
    "<h3>Mean price by brand</h3>"
   ]
  },
  {
   "cell_type": "code",
   "execution_count": null,
   "metadata": {},
   "outputs": [],
   "source": [
    "laptops_price_mean_by_brand = laptop_eda.groupby('Brand', as_index=False)['Price'].mean()\n",
    "laptops_price_mean_by_brand.sort_values(by=\"Price\", inplace=True, ascending=False)\n",
    "\n",
    "labels = [\"Brand: %s\" % i for i in laptopts_by_brand_count.index]\n",
    "\n",
    "fig1, ax1 = plt.subplots(figsize=(6, 5))\n",
    "fig1.subplots_adjust(0.3,0,1,1)\n",
    "\n",
    "_, _ = ax1.pie(laptops_price_mean_by_brand['Price'].tolist(), startangle=90)\n",
    "\n",
    "ax1.axis('equal')\n",
    "\n",
    "plt.legend(\n",
    "    loc='upper left',\n",
    "    labels=['%s, average=%1.1f' % (\n",
    "        l, (v)) for l, s, v in zip(labels, laptops_price_mean_by_brand.index, laptops_price_mean_by_brand['Price'].tolist())],\n",
    "    prop={'size': 11},\n",
    "    bbox_to_anchor=(0.0, 1),\n",
    "    bbox_transform=fig1.transFigure\n",
    ")\n",
    "\n",
    "plt.show()\n"
   ]
  },
  {
   "attachments": {},
   "cell_type": "markdown",
   "metadata": {},
   "source": [
    "<a id='screen_size_distribution'></a>\n",
    "<h3>Screen size distribution</h3>"
   ]
  },
  {
   "cell_type": "code",
   "execution_count": null,
   "metadata": {},
   "outputs": [],
   "source": [
    "fig, ax = plt.subplots(figsize=(18, 4))\n",
    "fg = sns.histplot(laptop_eda['Screen Size'], ax=ax)\n",
    "fg.set_title(\"Screen sizes Histogram\")\n",
    "fg.set_xlabel(\"Screen Size\")\n",
    "plt.xticks(rotation=90, ha='right', rotation_mode='anchor')\n",
    "plt.show()"
   ]
  },
  {
   "attachments": {},
   "cell_type": "markdown",
   "metadata": {},
   "source": [
    "<p>It's easy to see that 15.6 inches and 14 inches make most of the market. next, we'll check if screen size affects the price.</p>"
   ]
  },
  {
   "attachments": {},
   "cell_type": "markdown",
   "metadata": {},
   "source": [
    "<a id='mean_price_by_screen_size'></a>\n",
    "\n",
    "<h3>Mean price by screen size</h3>"
   ]
  },
  {
   "cell_type": "code",
   "execution_count": null,
   "metadata": {},
   "outputs": [],
   "source": [
    "laptopts_by_screen_size_count = laptop_eda['Screen Size'].value_counts()\n",
    "\n",
    "laptops_price_mean_by_screen_size = laptop_eda.groupby('Screen Size', as_index=False)['Price'].mean()\n",
    "laptops_price_mean_by_screen_size.sort_values(by=\"Price\", inplace=True, ascending=False)\n",
    "\n",
    "labels = [\"Screen Size: %s\" % i for i in laptopts_by_screen_size_count.index]\n",
    "\n",
    "fig1, ax1 = plt.subplots(figsize=(6, 5))\n",
    "fig1.subplots_adjust(0.3,0,1,1)\n",
    "\n",
    "_, _ = ax1.pie(laptops_price_mean_by_screen_size['Price'].tolist(), startangle=90)\n",
    "\n",
    "ax1.axis('equal')\n",
    "\n",
    "plt.legend(\n",
    "    loc='upper left',\n",
    "    labels=['%s, average=%1.1f' % (\n",
    "        l, (v)) for l, s, v in zip(labels, laptops_price_mean_by_screen_size.index, laptops_price_mean_by_screen_size['Price'].tolist())],\n",
    "    prop={'size': 11},\n",
    "    bbox_to_anchor=(0.0, 1),\n",
    "    bbox_transform=fig1.transFigure\n",
    ")\n",
    "\n",
    "plt.show()\n"
   ]
  },
  {
   "attachments": {},
   "cell_type": "markdown",
   "metadata": {},
   "source": [
    "<p>It seems that the screen size does affect the price, but considering that 15.5 and 14 inches make most of the market it's not suprising.</p>"
   ]
  },
  {
   "attachments": {},
   "cell_type": "markdown",
   "metadata": {},
   "source": [
    "<a id='mean_price_by_gpu'></a>\n",
    "\n",
    "<h3>Mean price by GPU</h3>"
   ]
  },
  {
   "cell_type": "code",
   "execution_count": null,
   "metadata": {},
   "outputs": [],
   "source": [
    "laptopts_by_gpu_count = laptop_eda['GPU'].value_counts()\n",
    "\n",
    "laptops_price_mean_by_gpu = laptop_eda.groupby('GPU', as_index=False)['Price'].mean()\n",
    "laptops_price_mean_by_gpu.sort_values(by=\"Price\", inplace=True, ascending=False)\n",
    "\n",
    "labels = [\"GPU: %s\" % i for i in laptopts_by_gpu_count.index]\n",
    "\n",
    "fig1, ax1 = plt.subplots(figsize=(6, 5))\n",
    "fig1.subplots_adjust(0.3,0,1,1)\n",
    "\n",
    "_, _ = ax1.pie(laptops_price_mean_by_gpu['Price'].tolist(), startangle=90)\n",
    "\n",
    "ax1.axis('equal')\n",
    "\n",
    "plt.legend(\n",
    "    loc='upper left',\n",
    "    labels=['%s, average=%1.1f' % (\n",
    "        l, (v)) for l, s, v in zip(labels, laptops_price_mean_by_gpu.index, laptops_price_mean_by_gpu['Price'].tolist())],\n",
    "    prop={'size': 11},\n",
    "    bbox_to_anchor=(0.0, 1),\n",
    "    bbox_transform=fig1.transFigure\n",
    ")\n",
    "\n",
    "plt.show()\n"
   ]
  },
  {
   "attachments": {},
   "cell_type": "markdown",
   "metadata": {},
   "source": [
    "<p>it seems like GPU's affects the price!</p>"
   ]
  },
  {
   "attachments": {},
   "cell_type": "markdown",
   "metadata": {},
   "source": [
    "<a id='mean_price_by_series'></a>\n",
    "\n",
    "<h3>Mean price by series</h3>"
   ]
  },
  {
   "cell_type": "code",
   "execution_count": null,
   "metadata": {},
   "outputs": [],
   "source": [
    "laptopts_by_Series_count = laptop_eda['Series'].value_counts()\n",
    "\n",
    "laptops_price_mean_by_Series = laptop_eda.groupby('Series', as_index=False)['Price'].mean()\n",
    "laptops_price_mean_by_Series.sort_values(by=\"Price\", inplace=True, ascending=False)\n",
    "\n",
    "labels = [\"Series: %s\" % i for i in laptopts_by_Series_count.index]\n",
    "\n",
    "fig1, ax1 = plt.subplots(figsize=(6, 5))\n",
    "fig1.subplots_adjust(0.3,0,1,1)\n",
    "\n",
    "_, _ = ax1.pie(laptops_price_mean_by_Series['Price'].tolist(), startangle=90)\n",
    "\n",
    "ax1.axis('equal')\n",
    "\n",
    "plt.legend(\n",
    "    loc='upper left',\n",
    "    labels=['%s, average=%1.1f' % (\n",
    "        l, (v)) for l, s, v in zip(labels, laptops_price_mean_by_Series.index, laptops_price_mean_by_Series['Price'].tolist())],\n",
    "    prop={'size': 11},\n",
    "    bbox_to_anchor=(0.0, 1),\n",
    "    bbox_transform=fig1.transFigure\n",
    ")\n",
    "\n",
    "plt.show()\n"
   ]
  },
  {
   "attachments": {},
   "cell_type": "markdown",
   "metadata": {},
   "source": [
    "<p>it seems like series affects the price!</p>"
   ]
  },
  {
   "attachments": {},
   "cell_type": "markdown",
   "metadata": {},
   "source": [
    "<a id='machine_learning'></a>\n",
    "<h1>Machine Learning</h1>"
   ]
  },
  {
   "cell_type": "code",
   "execution_count": null,
   "metadata": {},
   "outputs": [],
   "source": [
    "laptops_ml = laptop_eda.copy()"
   ]
  },
  {
   "attachments": {},
   "cell_type": "markdown",
   "metadata": {},
   "source": [
    "<a id='classification'></a>\n",
    "\n",
    "<h3>Classification of the problem</h3>\n",
    "<p>We want to predict the price of a laptop based on his specs.<br>\n",
    "Because what we are predicting is a number, we are facing a suprivesd learning problem called:<br>\n",
    "<strong>Regression on a continuous variable.</strong><br>\n",
    "We can solve that problem by using: <strong>Linear Regression.</strong> \n",
    "</p>"
   ]
  },
  {
   "attachments": {},
   "cell_type": "markdown",
   "metadata": {},
   "source": [
    "<a id='ml_helper_functions'></a>\n",
    "\n",
    "<h3>Helper Functions:</h3>\n",
    "<p>\n",
    "<ul>\n",
    "    <li>train_model - trains the model </li>\n",
    "    <li>evaluate_performance - evaluates the performance of the model</li>\n",
    "    <li>split_to_X_and_y - splits the prediction column from the dataframe</li>\n",
    "    <li>predict - prints a linear regression predicton evaluation of a dataframe using the above functions.</li>\n",
    "</ul>\n",
    "</p>\n"
   ]
  },
  {
   "cell_type": "code",
   "execution_count": null,
   "metadata": {},
   "outputs": [],
   "source": [
    "def train_model(X, y):\n",
    "    reg = LinearRegression(fit_intercept = False)\n",
    "    return reg.fit(X, y)"
   ]
  },
  {
   "cell_type": "code",
   "execution_count": null,
   "metadata": {},
   "outputs": [],
   "source": [
    "def evaluate_performance(y,y_predicted):\n",
    "    return metrics.r2_score(y, y_predicted)"
   ]
  },
  {
   "cell_type": "code",
   "execution_count": null,
   "metadata": {},
   "outputs": [],
   "source": [
    "def split_to_X_and_y(df, target_column):\n",
    "    return df.drop([target_column],axis = 1), df[target_column]"
   ]
  },
  {
   "cell_type": "code",
   "execution_count": null,
   "metadata": {},
   "outputs": [],
   "source": [
    "def predict(df):\n",
    "    numeric_df = df.select_dtypes(include='number')\n",
    "    X, y = split_to_X_and_y(numeric_df,'Price')\n",
    "    trained_model = train_model(X, y)\n",
    "    pred_vals = trained_model.predict(X)\n",
    "    y_pred= pd.Series(pred_vals,index=X.index)\n",
    "    eval_res = evaluate_performance(y, y_pred)\n",
    "    print('amount of data:', X.shape[0] * X.shape[1])\n",
    "    print('prediction:', eval_res)"
   ]
  },
  {
   "attachments": {},
   "cell_type": "markdown",
   "metadata": {},
   "source": [
    "<a id='predictions'></a>\n",
    "<h3>Predictions</h3>"
   ]
  },
  {
   "attachments": {},
   "cell_type": "markdown",
   "metadata": {},
   "source": [
    "<p>First, let's use <strong>Linear Regression</strong> on the dataframe as it to see what's our current prediction:</p>"
   ]
  },
  {
   "cell_type": "code",
   "execution_count": null,
   "metadata": {},
   "outputs": [],
   "source": [
    "predict(laptops_ml)"
   ]
  },
  {
   "attachments": {},
   "cell_type": "markdown",
   "metadata": {},
   "source": [
    "<p>Lets try to improve that by adding some features:</p>"
   ]
  },
  {
   "cell_type": "code",
   "execution_count": null,
   "metadata": {},
   "outputs": [],
   "source": [
    "def features(df):\n",
    "    df['Screen Resolution'] = df['Screen Resolution'].apply(lambda s: int(s.split('x')[0]) *int(s.split('x')[1]))\n",
    "    df['Screen Resolution'] = (df['Screen Resolution'] - df['Screen Resolution'].min()) / (df['Screen Resolution'].max() - df['Screen Resolution'].min())    \n",
    "    return df  "
   ]
  },
  {
   "attachments": {},
   "cell_type": "markdown",
   "metadata": {},
   "source": [
    "<p>let's predict again:</p>"
   ]
  },
  {
   "cell_type": "code",
   "execution_count": null,
   "metadata": {},
   "outputs": [],
   "source": [
    "laptops_ml_with_features = features(laptops_ml.copy())\n",
    "predict(laptops_ml_with_features)"
   ]
  },
  {
   "attachments": {},
   "cell_type": "markdown",
   "metadata": {},
   "source": [
    "<p>Adding features helped a bit, but not enough.</p>"
   ]
  },
  {
   "attachments": {},
   "cell_type": "markdown",
   "metadata": {},
   "source": [
    "<p>\n",
    "<ul>\n",
    "    <li>categorial_to_numerical - turns a categorical column to numerical using <strong>pd.get_dummies</strong> </li>\n",
    "</ul>\n",
    "</p>"
   ]
  },
  {
   "cell_type": "code",
   "execution_count": null,
   "metadata": {},
   "outputs": [],
   "source": [
    "def categorial_to_numerical(df, columns):\n",
    "    return pd.get_dummies(df, columns=columns)"
   ]
  },
  {
   "attachments": {},
   "cell_type": "markdown",
   "metadata": {},
   "source": [
    "<p>In the EDA section we saw that <strong>Series</strong> affects the price. lets try converting it to numerical and see if that helps:<br>\n",
    "(by doing so, we are increasing the amount of data the model is working on, so we won't over use this method)</p>"
   ]
  },
  {
   "cell_type": "code",
   "execution_count": null,
   "metadata": {},
   "outputs": [],
   "source": [
    "laptops_ml_with_categorical = categorial_to_numerical(laptops_ml_with_features.copy(),['Series'])\n",
    "predict(laptops_ml_with_categorical)"
   ]
  },
  {
   "attachments": {},
   "cell_type": "markdown",
   "metadata": {},
   "source": [
    "<p>lets try anoter feature to see if it has the same affect:</p>"
   ]
  },
  {
   "cell_type": "code",
   "execution_count": null,
   "metadata": {},
   "outputs": [],
   "source": [
    "laptops_ml_with_categorical = categorial_to_numerical(laptops_ml_with_features.copy(),['GPU'])\n",
    "predict(laptops_ml_with_categorical)"
   ]
  },
  {
   "attachments": {},
   "cell_type": "markdown",
   "metadata": {},
   "source": [
    "<p>wow! also a great influnce. not as much as <strong>Series</strong> but also quite big.<br>\n",
    "Also, a lot less demanding on the amount of data.</p>\n",
    "<p>Lets combine them:</p>"
   ]
  },
  {
   "cell_type": "code",
   "execution_count": null,
   "metadata": {},
   "outputs": [],
   "source": [
    "laptops_ml_with_categorical = categorial_to_numerical(laptops_ml_with_features.copy(),['GPU','Series'])\n",
    "predict(laptops_ml_with_categorical)"
   ]
  },
  {
   "attachments": {},
   "cell_type": "markdown",
   "metadata": {},
   "source": [
    "<p>We'll stop here. this is a great result and the data is getting quite big.<br>\n",
    "Also, we wouldn't want to overfit the model.</p>"
   ]
  },
  {
   "attachments": {},
   "cell_type": "markdown",
   "metadata": {},
   "source": [
    "<a id='conclusion'></a>\n",
    "<h2>Conclusion</h2>"
   ]
  },
  {
   "cell_type": "code",
   "execution_count": null,
   "metadata": {},
   "outputs": [],
   "source": [
    "laptops_conclusion = laptops_ml[['Price','Screen Resolution','RAM Capacity','GPU','Series']].copy()\n",
    "laptops_conclusion = features(laptops_conclusion)\n",
    "laptops_conclusion = categorial_to_numerical(laptops_conclusion,['GPU','Series'])\n",
    "predict(laptops_conclusion)"
   ]
  },
  {
   "attachments": {},
   "cell_type": "markdown",
   "metadata": {},
   "source": [
    "<p>\n",
    "    Predicting the price of a laptop with an accurecy of 0.94 requires knowledge of:<br>\n",
    "    <ul>\n",
    "        <li>RAM capacity</li>\n",
    "        <li>series</li>\n",
    "        <li>GPU</li>\n",
    "        <li>Screen resolution</li>\n",
    "    </ul>\n",
    "    \n",
    "    Suprisingly, the Brand doesn't affect the price. \n",
    "</p>  "
   ]
  }
 ],
 "metadata": {
  "kernelspec": {
   "display_name": "Python 3",
   "language": "python",
   "name": "python3"
  },
  "language_info": {
   "codemirror_mode": {
    "name": "ipython",
    "version": 3
   },
   "file_extension": ".py",
   "mimetype": "text/x-python",
   "name": "python",
   "nbconvert_exporter": "python",
   "pygments_lexer": "ipython3",
   "version": "3.10.11"
  },
  "orig_nbformat": 4,
  "vscode": {
   "interpreter": {
    "hash": "1cffba2fc7463f59291579ef9838003721e3ff09dbc39f9df864d3658272958b"
   }
  }
 },
 "nbformat": 4,
 "nbformat_minor": 2
}
